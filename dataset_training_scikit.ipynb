{
 "cells": [
  {
   "cell_type": "code",
   "execution_count": 1,
   "id": "b6713fcd",
   "metadata": {},
   "outputs": [
    {
     "name": "stdout",
     "output_type": "stream",
     "text": [
      "Requirement already satisfied: scikit_learn in /opt/conda/lib/python3.8/site-packages (1.2.2)\n",
      "Requirement already satisfied: numpy>=1.17.3 in /opt/conda/lib/python3.8/site-packages (from scikit_learn) (1.21.2)\n",
      "Requirement already satisfied: threadpoolctl>=2.0.0 in /opt/conda/lib/python3.8/site-packages (from scikit_learn) (3.1.0)\n",
      "Requirement already satisfied: scipy>=1.3.2 in /opt/conda/lib/python3.8/site-packages (from scikit_learn) (1.9.1)\n",
      "Requirement already satisfied: joblib>=1.1.1 in /opt/conda/lib/python3.8/site-packages (from scikit_learn) (1.2.0)\n",
      "\u001b[33mWARNING: Running pip as the 'root' user can result in broken permissions and conflicting behaviour with the system package manager. It is recommended to use a virtual environment instead: https://pip.pypa.io/warnings/venv\u001b[0m\n"
     ]
    }
   ],
   "source": [
    "!pip install scikit_learn"
   ]
  },
  {
   "cell_type": "code",
   "execution_count": 2,
   "id": "9bfd9045",
   "metadata": {},
   "outputs": [],
   "source": [
    "# Imports here\n",
    "import numpy as np\n",
    "import pandas as pd\n",
    "import matplotlib.pyplot as plt\n",
    "import seaborn as sb\n",
    "import cv2\n",
    "from tqdm import tqdm\n",
    "import torch\n",
    "from torch import nn\n",
    "from torch import optim\n",
    "import torch.nn.functional as F\n",
    "from torchvision import datasets, transforms, models\n",
    "from torchviz import make_dot, make_dot_from_trace\n",
    "from torch.utils.data import DataLoader, Dataset\n",
    "import os\n",
    "import torch.nn.functional as F\n",
    "from torchsummary import summary\n",
    "from torchvision.datasets import CIFAR10\n",
    "from torchvision.transforms import transforms\n",
    "from torch.utils.data import DataLoader\n",
    "from torch.optim import Adam\n",
    "import time\n",
    "import pathlib\n",
    "from torch.optim import Adam\n",
    "from torch.autograd import Variable\n",
    "from sklearn import preprocessing\n",
    "from sklearn.model_selection import train_test_split\n",
    "from sklearn.metrics import confusion_matrix\n",
    "from sklearn.metrics import f1_score\n",
    "import sklearn"
   ]
  },
  {
   "cell_type": "code",
   "execution_count": 3,
   "id": "c9a286a1",
   "metadata": {},
   "outputs": [
    {
     "name": "stdout",
     "output_type": "stream",
     "text": [
      "real_data\n"
     ]
    }
   ],
   "source": [
    "data_dir = pathlib.Path('./real_data')\n",
    "print(data_dir)"
   ]
  },
  {
   "cell_type": "code",
   "execution_count": 4,
   "id": "aadfebfa",
   "metadata": {},
   "outputs": [
    {
     "name": "stdout",
     "output_type": "stream",
     "text": [
      "['dogs', 'horses', 'cats', 'flowers', 'human']\n",
      "Current working directory: /demo\n",
      "[1 3 0 2 4]\n",
      "['dogs' 'horses' 'cats' 'flowers' 'human']\n"
     ]
    }
   ],
   "source": [
    "os.chdir(data_dir)\n",
    "class_names = [name for name in os.listdir(\".\") if os.path.isdir(name)]\n",
    "class_names.remove('.ipynb_checkpoints')\n",
    "class_names.remove('bike') #bmp file can not use\n",
    "class_names.remove('cars') #bmp file can not feed into the model\n",
    "print(class_names)\n",
    "os.chdir('../')\n",
    "cwd = os.getcwd()\n",
    "print(\"Current working directory: {0}\".format(cwd))\n",
    "#label encoder\n",
    "le = preprocessing.LabelEncoder()\n",
    "le.fit(class_names)\n",
    "label_list = le.transform(class_names)\n",
    "class_list = le.inverse_transform(label_list)\n",
    "print(label_list)\n",
    "print(class_list)\n",
    "num_class = len(class_names)\n",
    "\n",
    "image_files = [[os.path.join(data_dir, class_name, x) for x in os.listdir(os.path.join(data_dir, class_name))] for class_name in class_names]"
   ]
  },
  {
   "cell_type": "code",
   "execution_count": 5,
   "id": "4c4ffb25",
   "metadata": {},
   "outputs": [
    {
     "name": "stdout",
     "output_type": "stream",
     "text": [
      "1\n"
     ]
    }
   ],
   "source": [
    "# the way to get label\n",
    "z = le.transform(['dogs'])[0]\n",
    "print(z)"
   ]
  },
  {
   "cell_type": "code",
   "execution_count": 6,
   "id": "97f963d2",
   "metadata": {},
   "outputs": [
    {
     "name": "stdout",
     "output_type": "stream",
     "text": [
      "Number of image 1018\n"
     ]
    }
   ],
   "source": [
    "images_paths = []\n",
    "for i in range(num_class):\n",
    "    for j in range(len(image_files[i])):\n",
    "        current = image_files[i]\n",
    "        images_paths.append(current[j])\n",
    "print(f\"Number of image {len(images_paths)}\")"
   ]
  },
  {
   "cell_type": "code",
   "execution_count": 7,
   "id": "26d89c69",
   "metadata": {},
   "outputs": [],
   "source": [
    "training_transforms = transforms.Compose([transforms.Resize(256),\n",
    "                                          transforms.RandomResizedCrop(224),\n",
    "                                          transforms.RandomHorizontalFlip(),\n",
    "                                          transforms.ToTensor(),\n",
    "                                          transforms.Normalize([0.485, 0.456, 0.406], \n",
    "                                                               [0.229, 0.224, 0.225])])\n",
    "\n",
    "validation_transforms = transforms.Compose([transforms.Resize(256),\n",
    "                                            transforms.CenterCrop(224),\n",
    "                                            transforms.ToTensor(),\n",
    "                                            transforms.Normalize([0.485, 0.456, 0.406], \n",
    "                                                                 [0.229, 0.224, 0.225])])\n",
    "\n",
    "testing_transforms = transforms.Compose([transforms.Resize(256),\n",
    "                                         transforms.CenterCrop(224),\n",
    "                                         transforms.ToTensor(),\n",
    "                                         transforms.Normalize([0.485, 0.456, 0.406], \n",
    "                                                              [0.229, 0.224, 0.225])])"
   ]
  },
  {
   "cell_type": "code",
   "execution_count": 8,
   "id": "9bb02608",
   "metadata": {},
   "outputs": [
    {
     "name": "stdout",
     "output_type": "stream",
     "text": [
      "610\n",
      "153\n",
      "255\n"
     ]
    }
   ],
   "source": [
    "train_and_valid_data,test_data_path = train_test_split(images_paths,shuffle = True)\n",
    "train_data_path, valid_data_path = train_test_split(train_and_valid_data, shuffle = True, test_size = 0.2)\n",
    "print(len(train_data_path))\n",
    "print(len(valid_data_path))\n",
    "print(len(test_data_path))"
   ]
  },
  {
   "cell_type": "code",
   "execution_count": 9,
   "id": "108d22fa",
   "metadata": {},
   "outputs": [
    {
     "data": {
      "text/plain": [
       "'real_data/dogs/dog.196.jpg'"
      ]
     },
     "execution_count": 9,
     "metadata": {},
     "output_type": "execute_result"
    }
   ],
   "source": [
    "train_data_path[0]"
   ]
  },
  {
   "cell_type": "code",
   "execution_count": 10,
   "id": "2772b1bb",
   "metadata": {},
   "outputs": [],
   "source": [
    "from torch.utils.data import Dataset\n",
    "from random import randint\n",
    "from PIL import Image\n",
    "class ImageDataset(Dataset):\n",
    "    def __init__(self, label_encoder, base_dir, transform=None):\n",
    "        super().__init__()\n",
    "    \n",
    "        self.base_dir = base_dir\n",
    "        self.label_encoder = label_encoder\n",
    "        self.transform = transform\n",
    "        \n",
    "    def __len__(self):\n",
    "        return len(self.base_dir)\n",
    "    \n",
    "    def __getitem__(self, index):\n",
    "        \n",
    "        image_path = self.base_dir[index]\n",
    "        \n",
    "        image = Image.open(image_path).convert('RGB') ## 因為可能dataset有4維，所以要轉成RGB\n",
    "        \n",
    "        #get label\n",
    "        label_name = image_path.split('/')[-2]\n",
    "        \n",
    "        #label encoding \n",
    "        label = self.label_encoder.transform([label_name])[0]\n",
    "        \n",
    "        if self.transform is not None:\n",
    "            image = self.transform(image)\n",
    "        return (image, label)"
   ]
  },
  {
   "cell_type": "code",
   "execution_count": 11,
   "id": "9f382331",
   "metadata": {},
   "outputs": [],
   "source": [
    "train_data = ImageDataset(le, train_data_path, training_transforms)\n",
    "test_data = ImageDataset(le, test_data_path, testing_transforms)\n",
    "valid_data = ImageDataset(le, valid_data_path, validation_transforms)"
   ]
  },
  {
   "cell_type": "code",
   "execution_count": 12,
   "id": "6aea1888",
   "metadata": {},
   "outputs": [],
   "source": [
    "from torch.utils.data import DataLoader\n",
    "train_loader = DataLoader(train_data, batch_size = 8, shuffle = True)\n",
    "valid_loader = DataLoader(valid_data, batch_size = 8, shuffle = True)\n",
    "test_loader = DataLoader(test_data, batch_size = 8, shuffle = True)\n",
    "#len of dataloader is number of batch"
   ]
  },
  {
   "cell_type": "code",
   "execution_count": 13,
   "id": "02daaebf",
   "metadata": {},
   "outputs": [
    {
     "name": "stderr",
     "output_type": "stream",
     "text": [
      "Clipping input data to the valid range for imshow with RGB data ([0..1] for floats or [0..255] for integers).\n"
     ]
    },
    {
     "name": "stdout",
     "output_type": "stream",
     "text": [
      "torch.Size([8, 3, 224, 224])\n"
     ]
    },
    {
     "data": {
      "image/png": "[encoded data removed]",
      "text/plain": [
       "<Figure size 432x288 with 1 Axes>"
      ]
     },
     "metadata": {
      "needs_background": "light"
     },
     "output_type": "display_data"
    },
    {
     "name": "stdout",
     "output_type": "stream",
     "text": [
      "3 3 2 2 0 3 0 2\n"
     ]
    }
   ],
   "source": [
    "import matplotlib.pyplot as plt\n",
    "import numpy as np\n",
    "import torchvision\n",
    "# functions to show an image\n",
    "\n",
    "\n",
    "def imshow(img):\n",
    "    img = img / 2 + 0.5     # unnormalize\n",
    "    npimg = img.numpy()\n",
    "    plt.imshow(np.transpose(npimg, (1, 2, 0)))\n",
    "    plt.show()\n",
    "\n",
    "\n",
    "# get some random training images\n",
    "dataiter = iter(train_loader)\n",
    "images, labels = next(dataiter)\n",
    "print(images.shape)\n",
    "# show images\n",
    "imshow(torchvision.utils.make_grid(images))\n",
    "# print labels\n",
    "print(' '.join(f'{labels[j]}' for j in range(8)))"
   ]
  },
  {
   "cell_type": "code",
   "execution_count": 14,
   "id": "9c76896c",
   "metadata": {},
   "outputs": [],
   "source": [
    "# Function to show the images\n",
    "def imageshow(img):\n",
    "    img = img / 2 + 0.5     # unnormalize\n",
    "    npimg = img.numpy()\n",
    "    plt.imshow(np.transpose(npimg, (1, 2, 0)))\n",
    "    plt.show()\n",
    "\n",
    "\n",
    "# Function to test the model with a batch of images and show the labels predictions\n",
    "def testBatch():\n",
    "    # get batch of images from the test DataLoader  \n",
    "    images, labels = next(iter(test_loader))\n",
    "\n",
    "    # show all images as one image grid\n",
    "    imageshow(torchvision.utils.make_grid(images))\n",
    "   \n",
    "    # Show the real labels on the screen \n",
    "    print('Real labels: ', ' '.join('%5s' % classes[labels[j]] \n",
    "                               for j in range(batch_size)))\n",
    "    outputs = model(images)\n",
    "    \n",
    "    _, predicted = torch.max(outputs, 1)\n",
    "    \n",
    "    print('Predicted: ', ' '.join('%5s' % classes[predicted[j]] \n",
    "                              for j in range(batch_size)))"
   ]
  },
  {
   "cell_type": "code",
   "execution_count": 15,
   "id": "a3b1405b",
   "metadata": {},
   "outputs": [],
   "source": [
    "# Function to save the model\n",
    "def saveModel():\n",
    "    path = \"./ResNet18+intel.pth\"\n",
    "    torch.save(model.state_dict(), path)\n",
    "\n",
    "# Function to test the model with the test dataset and print the accuracy for the test images\n",
    "def testAccuracy():\n",
    "    model.eval()\n",
    "    accuracy = 0.0\n",
    "    total = 0.0\n",
    "    valid_loss = 0.0\n",
    "    loss_fn = nn.CrossEntropyLoss()\n",
    "    number = 0\n",
    "    with torch.no_grad():\n",
    "        for data in valid_loader:\n",
    "            images, labels = data\n",
    "            images = Variable(images.to(device))\n",
    "            labels = Variable(labels.to(device))\n",
    "            # run the model on the test set to predict labels\n",
    "            outputs = model(images)\n",
    "            # the label with the highest energy will be our prediction\n",
    "            _, predicted = torch.max(outputs.data, 1)\n",
    "            valid_loss += loss_fn(outputs, labels).item()\n",
    "            total += labels.size(0)\n",
    "            accuracy += (predicted == labels).sum().item()\n",
    "            number += 1\n",
    "    # compute the accuracy over all test images\n",
    "    accuracy = (100 * accuracy / total)\n",
    "    loss = valid_loss / number\n",
    "    return(accuracy,loss)"
   ]
  },
  {
   "cell_type": "code",
   "execution_count": 16,
   "id": "681ebfbe",
   "metadata": {},
   "outputs": [],
   "source": [
    "class Block(nn.Module):\n",
    "    \n",
    "    def __init__(self, in_channels, out_channels, identity_downsample=None, stride=1):\n",
    "        super(Block, self).__init__()\n",
    "        self.conv1 = nn.Conv2d(in_channels, out_channels, kernel_size=3, stride=stride, padding=1)\n",
    "        self.bn1 = nn.BatchNorm2d(out_channels)\n",
    "        self.conv2 = nn.Conv2d(out_channels, out_channels, kernel_size=3, stride=1, padding=1)\n",
    "        self.bn2 = nn.BatchNorm2d(out_channels)\n",
    "        self.relu = nn.ReLU()\n",
    "        self.identity_downsample = identity_downsample\n",
    "        \n",
    "    def forward(self, x):\n",
    "        identity = x\n",
    "        x = self.conv1(x)\n",
    "        x = self.bn1(x)\n",
    "        x = self.relu(x)\n",
    "        x = self.conv2(x)\n",
    "        x = self.bn2(x)\n",
    "        if self.identity_downsample is not None:\n",
    "            identity = self.identity_downsample(identity)\n",
    "        x += identity\n",
    "        x = self.relu(x)\n",
    "        return x\n",
    "\n",
    "class ResNet_18(nn.Module):\n",
    "    \n",
    "    def __init__(self, image_channels, num_classes):\n",
    "        \n",
    "        super(ResNet_18, self).__init__()\n",
    "        self.in_channels = 64\n",
    "        self.conv1 = nn.Conv2d(image_channels, 64, kernel_size=7, stride=2, padding=3)\n",
    "        self.bn1 = nn.BatchNorm2d(64)\n",
    "        self.relu = nn.ReLU()\n",
    "        self.maxpool = nn.MaxPool2d(kernel_size=3, stride=2, padding=1)\n",
    "        \n",
    "        #resnet layers\n",
    "        self.layer1 = self.__make_layer(64, 64, stride=1)\n",
    "        self.layer2 = self.__make_layer(64, 128, stride=2)\n",
    "        self.layer3 = self.__make_layer(128, 256, stride=2)\n",
    "        self.layer4 = self.__make_layer(256, 512, stride=2)\n",
    "        \n",
    "        self.avgpool = nn.AdaptiveAvgPool2d((1, 1))\n",
    "        self.fc = nn.Linear(512, num_classes)\n",
    "        \n",
    "    def __make_layer(self, in_channels, out_channels, stride):\n",
    "        \n",
    "        identity_downsample = None\n",
    "        if stride != 1:\n",
    "            identity_downsample = self.identity_downsample(in_channels, out_channels)\n",
    "            \n",
    "        return nn.Sequential(\n",
    "            Block(in_channels, out_channels, identity_downsample=identity_downsample, stride=stride), \n",
    "            Block(out_channels, out_channels)\n",
    "        )\n",
    "        \n",
    "    def forward(self, x):\n",
    "        \n",
    "        x = self.conv1(x)\n",
    "        x = self.bn1(x)\n",
    "        x = self.relu(x)\n",
    "        x = self.maxpool(x)\n",
    "        \n",
    "        x = self.layer1(x)\n",
    "        x = self.layer2(x)\n",
    "        x = self.layer3(x)\n",
    "        x = self.layer4(x)\n",
    "        \n",
    "        x = self.avgpool(x)\n",
    "        x = x.view(x.shape[0], -1)\n",
    "        x = self.fc(x)\n",
    "        return x \n",
    "    \n",
    "    def identity_downsample(self, in_channels, out_channels):\n",
    "        \n",
    "        return nn.Sequential(\n",
    "            nn.Conv2d(in_channels, out_channels, kernel_size=3, stride=2, padding=1), \n",
    "            nn.BatchNorm2d(out_channels)\n",
    "        )"
   ]
  },
  {
   "cell_type": "code",
   "execution_count": 17,
   "id": "5ce28250",
   "metadata": {
    "scrolled": true
   },
   "outputs": [
    {
     "name": "stdout",
     "output_type": "stream",
     "text": [
      "The model will be running on cuda:0 device\n"
     ]
    },
    {
     "data": {
      "text/plain": [
       "ResNet_18(\n",
       "  (conv1): Conv2d(3, 64, kernel_size=(7, 7), stride=(2, 2), padding=(3, 3))\n",
       "  (bn1): BatchNorm2d(64, eps=1e-05, momentum=0.1, affine=True, track_running_stats=True)\n",
       "  (relu): ReLU()\n",
       "  (maxpool): MaxPool2d(kernel_size=3, stride=2, padding=1, dilation=1, ceil_mode=False)\n",
       "  (layer1): Sequential(\n",
       "    (0): Block(\n",
       "      (conv1): Conv2d(64, 64, kernel_size=(3, 3), stride=(1, 1), padding=(1, 1))\n",
       "      (bn1): BatchNorm2d(64, eps=1e-05, momentum=0.1, affine=True, track_running_stats=True)\n",
       "      (conv2): Conv2d(64, 64, kernel_size=(3, 3), stride=(1, 1), padding=(1, 1))\n",
       "      (bn2): BatchNorm2d(64, eps=1e-05, momentum=0.1, affine=True, track_running_stats=True)\n",
       "      (relu): ReLU()\n",
       "    )\n",
       "    (1): Block(\n",
       "      (conv1): Conv2d(64, 64, kernel_size=(3, 3), stride=(1, 1), padding=(1, 1))\n",
       "      (bn1): BatchNorm2d(64, eps=1e-05, momentum=0.1, affine=True, track_running_stats=True)\n",
       "      (conv2): Conv2d(64, 64, kernel_size=(3, 3), stride=(1, 1), padding=(1, 1))\n",
       "      (bn2): BatchNorm2d(64, eps=1e-05, momentum=0.1, affine=True, track_running_stats=True)\n",
       "      (relu): ReLU()\n",
       "    )\n",
       "  )\n",
       "  (layer2): Sequential(\n",
       "    (0): Block(\n",
       "      (conv1): Conv2d(64, 128, kernel_size=(3, 3), stride=(2, 2), padding=(1, 1))\n",
       "      (bn1): BatchNorm2d(128, eps=1e-05, momentum=0.1, affine=True, track_running_stats=True)\n",
       "      (conv2): Conv2d(128, 128, kernel_size=(3, 3), stride=(1, 1), padding=(1, 1))\n",
       "      (bn2): BatchNorm2d(128, eps=1e-05, momentum=0.1, affine=True, track_running_stats=True)\n",
       "      (relu): ReLU()\n",
       "      (identity_downsample): Sequential(\n",
       "        (0): Conv2d(64, 128, kernel_size=(3, 3), stride=(2, 2), padding=(1, 1))\n",
       "        (1): BatchNorm2d(128, eps=1e-05, momentum=0.1, affine=True, track_running_stats=True)\n",
       "      )\n",
       "    )\n",
       "    (1): Block(\n",
       "      (conv1): Conv2d(128, 128, kernel_size=(3, 3), stride=(1, 1), padding=(1, 1))\n",
       "      (bn1): BatchNorm2d(128, eps=1e-05, momentum=0.1, affine=True, track_running_stats=True)\n",
       "      (conv2): Conv2d(128, 128, kernel_size=(3, 3), stride=(1, 1), padding=(1, 1))\n",
       "      (bn2): BatchNorm2d(128, eps=1e-05, momentum=0.1, affine=True, track_running_stats=True)\n",
       "      (relu): ReLU()\n",
       "    )\n",
       "  )\n",
       "  (layer3): Sequential(\n",
       "    (0): Block(\n",
       "      (conv1): Conv2d(128, 256, kernel_size=(3, 3), stride=(2, 2), padding=(1, 1))\n",
       "      (bn1): BatchNorm2d(256, eps=1e-05, momentum=0.1, affine=True, track_running_stats=True)\n",
       "      (conv2): Conv2d(256, 256, kernel_size=(3, 3), stride=(1, 1), padding=(1, 1))\n",
       "      (bn2): BatchNorm2d(256, eps=1e-05, momentum=0.1, affine=True, track_running_stats=True)\n",
       "      (relu): ReLU()\n",
       "      (identity_downsample): Sequential(\n",
       "        (0): Conv2d(128, 256, kernel_size=(3, 3), stride=(2, 2), padding=(1, 1))\n",
       "        (1): BatchNorm2d(256, eps=1e-05, momentum=0.1, affine=True, track_running_stats=True)\n",
       "      )\n",
       "    )\n",
       "    (1): Block(\n",
       "      (conv1): Conv2d(256, 256, kernel_size=(3, 3), stride=(1, 1), padding=(1, 1))\n",
       "      (bn1): BatchNorm2d(256, eps=1e-05, momentum=0.1, affine=True, track_running_stats=True)\n",
       "      (conv2): Conv2d(256, 256, kernel_size=(3, 3), stride=(1, 1), padding=(1, 1))\n",
       "      (bn2): BatchNorm2d(256, eps=1e-05, momentum=0.1, affine=True, track_running_stats=True)\n",
       "      (relu): ReLU()\n",
       "    )\n",
       "  )\n",
       "  (layer4): Sequential(\n",
       "    (0): Block(\n",
       "      (conv1): Conv2d(256, 512, kernel_size=(3, 3), stride=(2, 2), padding=(1, 1))\n",
       "      (bn1): BatchNorm2d(512, eps=1e-05, momentum=0.1, affine=True, track_running_stats=True)\n",
       "      (conv2): Conv2d(512, 512, kernel_size=(3, 3), stride=(1, 1), padding=(1, 1))\n",
       "      (bn2): BatchNorm2d(512, eps=1e-05, momentum=0.1, affine=True, track_running_stats=True)\n",
       "      (relu): ReLU()\n",
       "      (identity_downsample): Sequential(\n",
       "        (0): Conv2d(256, 512, kernel_size=(3, 3), stride=(2, 2), padding=(1, 1))\n",
       "        (1): BatchNorm2d(512, eps=1e-05, momentum=0.1, affine=True, track_running_stats=True)\n",
       "      )\n",
       "    )\n",
       "    (1): Block(\n",
       "      (conv1): Conv2d(512, 512, kernel_size=(3, 3), stride=(1, 1), padding=(1, 1))\n",
       "      (bn1): BatchNorm2d(512, eps=1e-05, momentum=0.1, affine=True, track_running_stats=True)\n",
       "      (conv2): Conv2d(512, 512, kernel_size=(3, 3), stride=(1, 1), padding=(1, 1))\n",
       "      (bn2): BatchNorm2d(512, eps=1e-05, momentum=0.1, affine=True, track_running_stats=True)\n",
       "      (relu): ReLU()\n",
       "    )\n",
       "  )\n",
       "  (avgpool): AdaptiveAvgPool2d(output_size=(1, 1))\n",
       "  (fc): Linear(in_features=512, out_features=6, bias=True)\n",
       ")"
      ]
     },
     "execution_count": 17,
     "metadata": {},
     "output_type": "execute_result"
    }
   ],
   "source": [
    "model = ResNet_18(3, 6)\n",
    "device = torch.device(\"cuda:0\" if torch.cuda.is_available() else \"cpu\")\n",
    "print(\"The model will be running on\", device, \"device\")\n",
    "# Convert model parameters and buffers to CPU or Cuda\n",
    "model.to(device)"
   ]
  },
  {
   "cell_type": "code",
   "execution_count": 18,
   "id": "f6ead14e",
   "metadata": {},
   "outputs": [],
   "source": [
    "def inference_test():\n",
    "    model.eval()\n",
    "    accuracy = 0.0\n",
    "    total = 0.0\n",
    "    \n",
    "    with torch.no_grad():\n",
    "        for data in test_loader:\n",
    "            images, labels = data\n",
    "            images = Variable(images.to(device))\n",
    "            labels = Variable(labels.to(device))\n",
    "            # run the model on the test set to predict labels\n",
    "            outputs = model(images)\n",
    "            # the label with the highest energy will be our prediction\n",
    "            _, predicted = torch.max(outputs.data, 1)\n",
    "            total += labels.size(0)\n",
    "            accuracy += (predicted == labels).sum().item()\n",
    "    \n",
    "    # compute the accuracy over all test images\n",
    "    accuracy = (100 * accuracy / total)\n",
    "    print(f\"testing accuracy : {accuracy}%\")\n"
   ]
  },
  {
   "cell_type": "code",
   "execution_count": 19,
   "id": "1ff33b3a",
   "metadata": {
    "scrolled": true
   },
   "outputs": [
    {
     "name": "stdout",
     "output_type": "stream",
     "text": [
      "For epoch', epoch+1,'the test accuracy  is 28% and loss is 1.6471964180469514\n",
      "time : 3.949793815612793\n",
      "For epoch', epoch+1,'the test accuracy  is 18% and loss is 1.701841902732849\n",
      "time : 7.243751287460327\n",
      "For epoch', epoch+1,'the test accuracy  is 29% and loss is 1.477781891822815\n",
      "time : 10.601781129837036\n",
      "For epoch', epoch+1,'the test accuracy  is 39% and loss is 1.4279958367347718\n",
      "time : 13.984575033187866\n",
      "For epoch', epoch+1,'the test accuracy  is 42% and loss is 1.3410575091838837\n",
      "time : 17.396225929260254\n",
      "For epoch', epoch+1,'the test accuracy  is 38% and loss is 1.3392538368701934\n",
      "time : 20.742904663085938\n",
      "For epoch', epoch+1,'the test accuracy  is 42% and loss is 1.2327272117137908\n",
      "time : 24.05929183959961\n",
      "For epoch', epoch+1,'the test accuracy  is 48% and loss is 1.2587548553943635\n",
      "time : 27.479063034057617\n",
      "For epoch', epoch+1,'the test accuracy  is 50% and loss is 1.1586143493652343\n",
      "time : 30.91624164581299\n",
      "For epoch', epoch+1,'the test accuracy  is 40% and loss is 1.3593539774417878\n",
      "time : 34.24234127998352\n",
      "For epoch', epoch+1,'the test accuracy  is 46% and loss is 1.277133324742317\n",
      "time : 37.56225275993347\n",
      "For epoch', epoch+1,'the test accuracy  is 46% and loss is 1.2313477873802186\n",
      "time : 40.923624992370605\n",
      "For epoch', epoch+1,'the test accuracy  is 44% and loss is 1.2416662186384202\n",
      "time : 44.30684018135071\n",
      "For epoch', epoch+1,'the test accuracy  is 53% and loss is 1.3220877289772033\n",
      "time : 47.73409652709961\n",
      "For epoch', epoch+1,'the test accuracy  is 48% and loss is 1.3225830167531967\n",
      "time : 51.13069486618042\n",
      "For epoch', epoch+1,'the test accuracy  is 50% and loss is 1.1998709350824357\n",
      "time : 54.57273626327515\n",
      "For epoch', epoch+1,'the test accuracy  is 45% and loss is 1.2975207567214966\n",
      "time : 58.01691293716431\n",
      "For epoch', epoch+1,'the test accuracy  is 41% and loss is 1.1847626090049743\n",
      "time : 61.47735357284546\n",
      "For epoch', epoch+1,'the test accuracy  is 50% and loss is 1.1385823145508767\n",
      "time : 64.93005061149597\n",
      "For epoch', epoch+1,'the test accuracy  is 45% and loss is 1.1329174399375916\n",
      "time : 68.48938989639282\n",
      "For epoch', epoch+1,'the test accuracy  is 52% and loss is 1.1583611577749253\n",
      "time : 71.99337768554688\n",
      "For epoch', epoch+1,'the test accuracy  is 51% and loss is 1.157375881075859\n",
      "time : 75.4403486251831\n",
      "For epoch', epoch+1,'the test accuracy  is 47% and loss is 1.2369575917720794\n",
      "time : 78.87604284286499\n",
      "For epoch', epoch+1,'the test accuracy  is 50% and loss is 1.104060125350952\n",
      "time : 82.30549335479736\n",
      "For epoch', epoch+1,'the test accuracy  is 50% and loss is 1.0576648570597171\n",
      "time : 85.76251244544983\n",
      "For epoch', epoch+1,'the test accuracy  is 51% and loss is 1.1176692962646484\n",
      "time : 89.21614289283752\n",
      "For epoch', epoch+1,'the test accuracy  is 60% and loss is 1.0885294198989868\n",
      "time : 92.71586465835571\n",
      "For epoch', epoch+1,'the test accuracy  is 55% and loss is 1.106107658147812\n",
      "time : 96.12564158439636\n",
      "For epoch', epoch+1,'the test accuracy  is 51% and loss is 1.0945412367582321\n",
      "time : 99.60856914520264\n",
      "For epoch', epoch+1,'the test accuracy  is 52% and loss is 1.0423383846413343\n",
      "time : 103.08199071884155\n",
      "For epoch', epoch+1,'the test accuracy  is 52% and loss is 1.0772093862295151\n",
      "time : 106.45244860649109\n",
      "For epoch', epoch+1,'the test accuracy  is 52% and loss is 1.1877847522497178\n",
      "time : 109.87165427207947\n",
      "For epoch', epoch+1,'the test accuracy  is 56% and loss is 0.9801151901483536\n",
      "time : 113.29131865501404\n",
      "For epoch', epoch+1,'the test accuracy  is 57% and loss is 0.9811694204807282\n",
      "time : 116.72114825248718\n",
      "For epoch', epoch+1,'the test accuracy  is 57% and loss is 1.029333235323429\n",
      "time : 120.17233896255493\n",
      "For epoch', epoch+1,'the test accuracy  is 56% and loss is 0.9443190559744835\n",
      "time : 123.59193325042725\n",
      "For epoch', epoch+1,'the test accuracy  is 60% and loss is 0.9060833871364593\n",
      "time : 127.12192010879517\n",
      "For epoch', epoch+1,'the test accuracy  is 56% and loss is 0.9519782906863838\n",
      "time : 130.57828831672668\n",
      "For epoch', epoch+1,'the test accuracy  is 58% and loss is 0.936312910914421\n",
      "time : 134.04146122932434\n",
      "For epoch', epoch+1,'the test accuracy  is 52% and loss is 1.0742868174798788\n",
      "time : 137.45260214805603\n",
      "For epoch', epoch+1,'the test accuracy  is 58% and loss is 0.9440246880054474\n",
      "time : 140.84879279136658\n",
      "For epoch', epoch+1,'the test accuracy  is 53% and loss is 1.1626200646162033\n",
      "time : 144.26979756355286\n",
      "For epoch', epoch+1,'the test accuracy  is 60% and loss is 0.9325430959463119\n",
      "time : 147.71536779403687\n",
      "For epoch', epoch+1,'the test accuracy  is 63% and loss is 0.8877886667847633\n",
      "time : 151.26559615135193\n",
      "For epoch', epoch+1,'the test accuracy  is 60% and loss is 1.0266548424959183\n",
      "time : 154.67846536636353\n",
      "For epoch', epoch+1,'the test accuracy  is 59% and loss is 0.8560133904218674\n",
      "time : 158.0832302570343\n",
      "For epoch', epoch+1,'the test accuracy  is 58% and loss is 0.9133258044719696\n",
      "time : 161.7423985004425\n",
      "For epoch', epoch+1,'the test accuracy  is 58% and loss is 0.8761991001665592\n",
      "time : 165.1653003692627\n",
      "For epoch', epoch+1,'the test accuracy  is 56% and loss is 0.9419515430927277\n",
      "time : 168.61244082450867\n",
      "For epoch', epoch+1,'the test accuracy  is 64% and loss is 0.8868743106722832\n",
      "time : 172.11998295783997\n",
      "For epoch', epoch+1,'the test accuracy  is 64% and loss is 0.8782622203230858\n",
      "time : 175.67480278015137\n",
      "For epoch', epoch+1,'the test accuracy  is 64% and loss is 0.8724174916744232\n",
      "time : 179.19803309440613\n",
      "For epoch', epoch+1,'the test accuracy  is 62% and loss is 0.8719915956258774\n",
      "time : 182.6145305633545\n",
      "For epoch', epoch+1,'the test accuracy  is 66% and loss is 0.8120367139577865\n",
      "time : 186.10718417167664\n",
      "For epoch', epoch+1,'the test accuracy  is 69% and loss is 0.8747012823820114\n",
      "time : 189.6311776638031\n",
      "For epoch', epoch+1,'the test accuracy  is 64% and loss is 0.8361564263701439\n",
      "time : 193.14881491661072\n",
      "For epoch', epoch+1,'the test accuracy  is 68% and loss is 0.8760616421699524\n",
      "time : 196.59387373924255\n",
      "For epoch', epoch+1,'the test accuracy  is 65% and loss is 0.7760304138064384\n",
      "time : 199.99120712280273\n",
      "For epoch', epoch+1,'the test accuracy  is 67% and loss is 0.7476962700486183\n",
      "time : 203.45026850700378\n",
      "For epoch', epoch+1,'the test accuracy  is 67% and loss is 0.7735005497932435\n",
      "time : 206.89479660987854\n",
      "For epoch', epoch+1,'the test accuracy  is 65% and loss is 0.8284882634878159\n",
      "time : 210.3745424747467\n",
      "For epoch', epoch+1,'the test accuracy  is 67% and loss is 0.8369470700621605\n",
      "time : 213.8127954006195\n",
      "For epoch', epoch+1,'the test accuracy  is 71% and loss is 0.6919016974512487\n",
      "time : 217.33896374702454\n",
      "For epoch', epoch+1,'the test accuracy  is 73% and loss is 0.7544331222772598\n",
      "time : 220.89754509925842\n",
      "For epoch', epoch+1,'the test accuracy  is 71% and loss is 0.7401373609900475\n",
      "time : 224.52393794059753\n",
      "For epoch', epoch+1,'the test accuracy  is 68% and loss is 0.8150992929935456\n",
      "time : 227.96511507034302\n",
      "For epoch', epoch+1,'the test accuracy  is 68% and loss is 0.7807931363582611\n",
      "time : 231.4092981815338\n",
      "For epoch', epoch+1,'the test accuracy  is 69% and loss is 0.8321311295032501\n",
      "time : 234.85528135299683\n",
      "For epoch', epoch+1,'the test accuracy  is 69% and loss is 0.6801898270845413\n",
      "time : 238.30084013938904\n",
      "For epoch', epoch+1,'the test accuracy  is 71% and loss is 0.7382441562287567\n",
      "time : 241.7529056072235\n",
      "For epoch', epoch+1,'the test accuracy  is 64% and loss is 0.7862349271774292\n",
      "time : 245.20111227035522\n",
      "For epoch', epoch+1,'the test accuracy  is 66% and loss is 0.7532183092087508\n",
      "time : 248.64346551895142\n",
      "For epoch', epoch+1,'the test accuracy  is 76% and loss is 0.7756719470024109\n",
      "time : 252.14527130126953\n",
      "For epoch', epoch+1,'the test accuracy  is 75% and loss is 0.6799403454482672\n",
      "time : 255.5718538761139\n",
      "For epoch', epoch+1,'the test accuracy  is 71% and loss is 0.696426354633877\n",
      "time : 259.0136938095093\n",
      "For epoch', epoch+1,'the test accuracy  is 73% and loss is 0.7299689710140228\n",
      "time : 262.4459400177002\n",
      "For epoch', epoch+1,'the test accuracy  is 78% and loss is 0.6396971912588925\n",
      "time : 265.97322034835815\n",
      "For epoch', epoch+1,'the test accuracy  is 67% and loss is 0.7409080326557159\n",
      "time : 269.41935300827026\n",
      "For epoch', epoch+1,'the test accuracy  is 71% and loss is 0.7189285099506364\n",
      "time : 272.88269329071045\n",
      "For epoch', epoch+1,'the test accuracy  is 76% and loss is 0.7688969597220421\n",
      "time : 276.3533115386963\n"
     ]
    },
    {
     "name": "stdout",
     "output_type": "stream",
     "text": [
      "For epoch', epoch+1,'the test accuracy  is 71% and loss is 0.6837420999842834\n",
      "time : 279.7794270515442\n",
      "For epoch', epoch+1,'the test accuracy  is 71% and loss is 0.6678682819008828\n",
      "time : 283.21879410743713\n",
      "For epoch', epoch+1,'the test accuracy  is 75% and loss is 0.7533386811614037\n",
      "time : 286.64476799964905\n",
      "For epoch', epoch+1,'the test accuracy  is 71% and loss is 0.7157029196619987\n",
      "time : 290.13594031333923\n",
      "For epoch', epoch+1,'the test accuracy  is 74% and loss is 0.6896446734666825\n",
      "time : 293.5939586162567\n",
      "For epoch', epoch+1,'the test accuracy  is 70% and loss is 0.7234409492462873\n",
      "time : 297.04614520072937\n",
      "For epoch', epoch+1,'the test accuracy  is 79% and loss is 0.6806939056143164\n",
      "time : 300.58862566947937\n",
      "For epoch', epoch+1,'the test accuracy  is 75% and loss is 0.7050182860344648\n",
      "time : 304.0232963562012\n",
      "For epoch', epoch+1,'the test accuracy  is 65% and loss is 0.8478582218289376\n",
      "time : 307.4543647766113\n",
      "For epoch', epoch+1,'the test accuracy  is 69% and loss is 0.7554808668792248\n",
      "time : 310.9064733982086\n",
      "For epoch', epoch+1,'the test accuracy  is 75% and loss is 0.6317259790957905\n",
      "time : 314.3752040863037\n",
      "For epoch', epoch+1,'the test accuracy  is 73% and loss is 0.6537105090916157\n",
      "time : 317.80988693237305\n",
      "For epoch', epoch+1,'the test accuracy  is 74% and loss is 0.6677380964159966\n",
      "time : 321.2345087528229\n",
      "For epoch', epoch+1,'the test accuracy  is 73% and loss is 0.647614985704422\n",
      "time : 324.67096066474915\n",
      "For epoch', epoch+1,'the test accuracy  is 73% and loss is 0.7151253834366799\n",
      "time : 328.09979939460754\n",
      "For epoch', epoch+1,'the test accuracy  is 73% and loss is 0.7227433443069458\n",
      "time : 331.53651118278503\n",
      "For epoch', epoch+1,'the test accuracy  is 76% and loss is 0.6510755993425846\n",
      "time : 334.9730417728424\n",
      "For epoch', epoch+1,'the test accuracy  is 73% and loss is 0.7272529676556587\n",
      "time : 338.41383051872253\n",
      "For epoch', epoch+1,'the test accuracy  is 71% and loss is 0.6713800266385078\n",
      "time : 341.860787153244\n",
      "For epoch', epoch+1,'the test accuracy  is 77% and loss is 0.6215762902051211\n",
      "time : 345.30454993247986\n",
      "testing accuracy : 70.19607843137256%\n"
     ]
    }
   ],
   "source": [
    "if __name__ == \"__main__\":\n",
    "    start = time.time()\n",
    "    num_epochs = 100\n",
    "    best_accuracy = 0.0\n",
    "    accuracy_history = []\n",
    "    loss_history = []\n",
    "    valid_history = []\n",
    "    loss_fn = nn.CrossEntropyLoss()\n",
    "    optimizer = Adam(model.parameters(), lr=0.001, weight_decay=0.0001)\n",
    "    for epoch in range(num_epochs):  # loop over the dataset multiple times\n",
    "        running_loss = 0.0\n",
    "        running_acc = 0.0\n",
    "\n",
    "        for i, (images, labels) in enumerate(train_loader, 0):\n",
    "            \n",
    "            images = Variable(images.to(device))\n",
    "            labels = Variable(labels.to(device))\n",
    "            #將梯度初始化为零\n",
    "            optimizer.zero_grad()\n",
    "            # 向前傳播求出預測的值\n",
    "            outputs = model(images)\n",
    "            # 用output和label計算loss\n",
    "            loss = loss_fn(outputs, labels)\n",
    "            # 反向傳播\n",
    "            loss.backward()\n",
    "            # 更新參數\n",
    "            optimizer.step()\n",
    "\n",
    "            # Let's print statistics for every 1,000 images\n",
    "            running_loss += loss.item()     # extract the loss value\n",
    "            if i % 100 == 99:    \n",
    "                print('[%d, %5d] loss: %.3f' %\n",
    "                      (epoch + 1, i + 1, running_loss / 100))\n",
    "                # zero the loss\n",
    "                running_loss = 0.0\n",
    "\n",
    "        # Compute and print the average accuracy fo this epoch when tested over all 10000 test images\n",
    "        accuracy, valid_loss = testAccuracy()\n",
    "        valid_history.append(accuracy)\n",
    "        loss_history.append(valid_loss)\n",
    "        print(f\"For epoch', epoch+1,'the test accuracy  is {int(accuracy)}% and loss is {valid_loss}\")\n",
    "        \n",
    "        # we want to save the model if the accuracy is the best\n",
    "        if accuracy > best_accuracy:\n",
    "            path = \"./ResNet18+intel1.pth\"\n",
    "            torch.save(model.state_dict(), path)\n",
    "            best_accuracy = accuracy\n",
    "        end = time.time()\n",
    "        print(f\"time : {end-start}\")\n",
    "        \n",
    "    inference_test()"
   ]
  },
  {
   "cell_type": "code",
   "execution_count": 20,
   "id": "a9dbd0da",
   "metadata": {},
   "outputs": [
    {
     "data": {
      "text/plain": [
       "<matplotlib.legend.Legend at 0x7fda5c097af0>"
      ]
     },
     "execution_count": 20,
     "metadata": {},
     "output_type": "execute_result"
    },
    {
     "data": {
      "image/png": "[encoded data removed]",
      "text/plain": [
       "<Figure size 720x360 with 1 Axes>"
      ]
     },
     "metadata": {
      "needs_background": "light"
     },
     "output_type": "display_data"
    }
   ],
   "source": [
    "plt.figure(figsize=(10,5))\n",
    "plt.title(\"Validation Loss\")\n",
    "plt.plot(loss_history,label=\"train\")\n",
    "plt.xlabel(\"epoch\")\n",
    "plt.ylabel(\"Loss\")\n",
    "plt.legend()"
   ]
  },
  {
   "cell_type": "code",
   "execution_count": 21,
   "id": "b8075af4",
   "metadata": {},
   "outputs": [
    {
     "data": {
      "text/plain": [
       "<matplotlib.legend.Legend at 0x7fda5c5a0070>"
      ]
     },
     "execution_count": 21,
     "metadata": {},
     "output_type": "execute_result"
    },
    {
     "data": {
      "image/png": "[encoded data removed]",
      "text/plain": [
       "<Figure size 720x360 with 1 Axes>"
      ]
     },
     "metadata": {
      "needs_background": "light"
     },
     "output_type": "display_data"
    }
   ],
   "source": [
    "plt.figure(figsize=(10,5))\n",
    "plt.title(\"Validation accuracy\")\n",
    "plt.plot(valid_history,label=\"validation\")\n",
    "plt.xlabel(\"epoch\")\n",
    "plt.ylabel(\"Acc\")\n",
    "plt.legend()"
   ]
  },
  {
   "cell_type": "code",
   "execution_count": 22,
   "id": "611c16f4",
   "metadata": {},
   "outputs": [
    {
     "name": "stdout",
     "output_type": "stream",
     "text": [
      "f1 score is 0.6931554433682093\n"
     ]
    },
    {
     "data": {
      "image/png": "[encoded data removed]",
      "text/plain": [
       "<Figure size 864x504 with 2 Axes>"
      ]
     },
     "metadata": {
      "needs_background": "light"
     },
     "output_type": "display_data"
    }
   ],
   "source": [
    "def draw_confusion_matrix():\n",
    "\n",
    "    y_pred = []\n",
    "    y_true = []\n",
    "\n",
    "    # iterate over test data\n",
    "    for data in test_loader:\n",
    "        images, labels = data\n",
    "        images = Variable(images.to(device))\n",
    "\n",
    "        output = model(images) # Feed Network\n",
    "        _, predicted = torch.max(output.data, 1)\n",
    "        predicted = predicted.data.cpu().numpy()\n",
    "        y_pred.extend(predicted) # Save Prediction\n",
    "\n",
    "        y_true.extend(labels) # Save Truth\n",
    "\n",
    "    # Build confusion matrix\n",
    "    cf_matrix = confusion_matrix(y_true, y_pred)\n",
    "    df_cm = pd.DataFrame(cf_matrix / np.sum(cf_matrix, axis=1)[:, None], index = [i for i in class_list],\n",
    "                         columns = [i for i in class_list])\n",
    "    plt.figure(figsize = (12,7))\n",
    "    sb.heatmap(df_cm, annot=True)\n",
    "    score = f1_score(y_true,y_pred,average='macro')\n",
    "    print(f\"f1 score is {score}\")\n",
    "    #plt.savefig('output.png')\n",
    "\n",
    "draw_confusion_matrix()"
   ]
  },
  {
   "cell_type": "code",
   "execution_count": null,
   "id": "6b139405",
   "metadata": {},
   "outputs": [],
   "source": []
  }
 ],
 "metadata": {
  "kernelspec": {
   "display_name": "Python 3 (ipykernel)",
   "language": "python",
   "name": "python3"
  },
  "language_info": {
   "codemirror_mode": {
    "name": "ipython",
    "version": 3
   },
   "file_extension": ".py",
   "mimetype": "text/x-python",
   "name": "python",
   "nbconvert_exporter": "python",
   "pygments_lexer": "ipython3",
   "version": "3.8.12"
  }
 },
 "nbformat": 4,
 "nbformat_minor": 5
}

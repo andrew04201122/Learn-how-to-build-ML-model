{
 "cells": [
  {
   "cell_type": "code",
   "execution_count": 1,
   "id": "b6713fcd",
   "metadata": {},
   "outputs": [
    {
     "name": "stdout",
     "output_type": "stream",
     "text": [
      "Requirement already satisfied: scikit_learn in /opt/conda/lib/python3.8/site-packages (1.2.2)\n",
      "Requirement already satisfied: joblib>=1.1.1 in /opt/conda/lib/python3.8/site-packages (from scikit_learn) (1.2.0)\n",
      "Requirement already satisfied: numpy>=1.17.3 in /opt/conda/lib/python3.8/site-packages (from scikit_learn) (1.21.2)\n",
      "Requirement already satisfied: scipy>=1.3.2 in /opt/conda/lib/python3.8/site-packages (from scikit_learn) (1.9.1)\n",
      "Requirement already satisfied: threadpoolctl>=2.0.0 in /opt/conda/lib/python3.8/site-packages (from scikit_learn) (3.1.0)\n",
      "\u001b[33mWARNING: Running pip as the 'root' user can result in broken permissions and conflicting behaviour with the system package manager. It is recommended to use a virtual environment instead: https://pip.pypa.io/warnings/venv\u001b[0m\n"
     ]
    }
   ],
   "source": [
    "!pip install scikit_learn"
   ]
  },
  {
   "cell_type": "code",
   "execution_count": 42,
   "id": "9bfd9045",
   "metadata": {},
   "outputs": [],
   "source": [
    "# Imports here\n",
    "import numpy as np\n",
    "import pandas as pd\n",
    "import matplotlib.pyplot as plt\n",
    "import seaborn as sb\n",
    "import cv2\n",
    "from tqdm import tqdm\n",
    "import torch\n",
    "from torch import nn\n",
    "from torch import optim\n",
    "import torch.nn.functional as F\n",
    "from torchvision import datasets, transforms, models\n",
    "from torchviz import make_dot, make_dot_from_trace\n",
    "from torch.utils.data import DataLoader, Dataset\n",
    "import os\n",
    "import torch.nn.functional as F\n",
    "from torchsummary import summary\n",
    "from torchvision.datasets import CIFAR10\n",
    "from torchvision.transforms import transforms\n",
    "from torch.utils.data import DataLoader\n",
    "from torch.optim import Adam\n",
    "import time\n",
    "import pathlib\n",
    "from torch.optim import Adam\n",
    "from torch.autograd import Variable\n",
    "from sklearn import preprocessing\n",
    "from sklearn.model_selection import train_test_split\n",
    "from sklearn.metrics import confusion_matrix\n",
    "from sklearn.metrics import f1_score"
   ]
  },
  {
   "cell_type": "code",
   "execution_count": 3,
   "id": "c9a286a1",
   "metadata": {},
   "outputs": [
    {
     "name": "stdout",
     "output_type": "stream",
     "text": [
      "real_data\n"
     ]
    }
   ],
   "source": [
    "data_dir = pathlib.Path('./real_data')\n",
    "print(data_dir)"
   ]
  },
  {
   "cell_type": "code",
   "execution_count": 4,
   "id": "aadfebfa",
   "metadata": {},
   "outputs": [
    {
     "name": "stdout",
     "output_type": "stream",
     "text": [
      "['dogs', 'horses', 'cats', 'flowers', 'human']\n",
      "Current working directory: /demo\n",
      "[1 3 0 2 4]\n",
      "['dogs' 'horses' 'cats' 'flowers' 'human']\n"
     ]
    }
   ],
   "source": [
    "os.chdir(data_dir)\n",
    "class_names = [name for name in os.listdir(\".\") if os.path.isdir(name)]\n",
    "class_names.remove('.ipynb_checkpoints')\n",
    "class_names.remove('bike') #bmp file can not use\n",
    "class_names.remove('cars') #bmp file can not feed into the model\n",
    "print(class_names)\n",
    "os.chdir('../')\n",
    "cwd = os.getcwd()\n",
    "print(\"Current working directory: {0}\".format(cwd))\n",
    "#label encoder\n",
    "le = preprocessing.LabelEncoder()\n",
    "le.fit(class_names)\n",
    "label_list = le.transform(class_names)\n",
    "class_list = le.inverse_transform(label_list)\n",
    "print(label_list)\n",
    "print(class_list)\n",
    "num_class = len(class_names)\n",
    "\n",
    "image_files = [[os.path.join(data_dir, class_name, x) for x in os.listdir(os.path.join(data_dir, class_name))] for class_name in class_names]"
   ]
  },
  {
   "cell_type": "code",
   "execution_count": 5,
   "id": "4c4ffb25",
   "metadata": {},
   "outputs": [
    {
     "name": "stdout",
     "output_type": "stream",
     "text": [
      "1\n"
     ]
    }
   ],
   "source": [
    "# the way to get label\n",
    "z = le.transform(['dogs'])[0]\n",
    "print(z)"
   ]
  },
  {
   "cell_type": "code",
   "execution_count": 6,
   "id": "97f963d2",
   "metadata": {},
   "outputs": [
    {
     "name": "stdout",
     "output_type": "stream",
     "text": [
      "Number of image 1018\n"
     ]
    }
   ],
   "source": [
    "images_paths = []\n",
    "for i in range(num_class):\n",
    "    for j in range(len(image_files[i])):\n",
    "        current = image_files[i]\n",
    "        images_paths.append(current[j])\n",
    "print(f\"Number of image {len(images_paths)}\")"
   ]
  },
  {
   "cell_type": "code",
   "execution_count": 7,
   "id": "26d89c69",
   "metadata": {},
   "outputs": [],
   "source": [
    "training_transforms = transforms.Compose([transforms.Resize(256),\n",
    "                                          transforms.RandomResizedCrop(224),\n",
    "                                          transforms.RandomHorizontalFlip(),\n",
    "                                          transforms.ToTensor(),\n",
    "                                          transforms.Normalize([0.485, 0.456, 0.406], \n",
    "                                                               [0.229, 0.224, 0.225])])\n",
    "\n",
    "validation_transforms = transforms.Compose([transforms.Resize(256),\n",
    "                                            transforms.CenterCrop(224),\n",
    "                                            transforms.ToTensor(),\n",
    "                                            transforms.Normalize([0.485, 0.456, 0.406], \n",
    "                                                                 [0.229, 0.224, 0.225])])\n",
    "\n",
    "testing_transforms = transforms.Compose([transforms.Resize(256),\n",
    "                                         transforms.CenterCrop(224),\n",
    "                                         transforms.ToTensor(),\n",
    "                                         transforms.Normalize([0.485, 0.456, 0.406], \n",
    "                                                              [0.229, 0.224, 0.225])])"
   ]
  },
  {
   "cell_type": "code",
   "execution_count": 8,
   "id": "9bb02608",
   "metadata": {},
   "outputs": [
    {
     "name": "stdout",
     "output_type": "stream",
     "text": [
      "610\n",
      "153\n",
      "255\n"
     ]
    }
   ],
   "source": [
    "train_and_valid_data,test_data_path = train_test_split(images_paths,shuffle = True)\n",
    "train_data_path, valid_data_path = train_test_split(train_and_valid_data, shuffle = True, test_size = 0.2)\n",
    "print(len(train_data_path))\n",
    "print(len(valid_data_path))\n",
    "print(len(test_data_path))"
   ]
  },
  {
   "cell_type": "code",
   "execution_count": 9,
   "id": "e11d67b5",
   "metadata": {},
   "outputs": [
    {
     "data": {
      "text/plain": [
       "'real_data/dogs/dog.89.jpg'"
      ]
     },
     "execution_count": 9,
     "metadata": {},
     "output_type": "execute_result"
    }
   ],
   "source": [
    "train_data_path[0]"
   ]
  },
  {
   "cell_type": "code",
   "execution_count": 10,
   "id": "2772b1bb",
   "metadata": {},
   "outputs": [],
   "source": [
    "from torch.utils.data import Dataset\n",
    "from random import randint\n",
    "from PIL import Image\n",
    "class ImageDataset(Dataset):\n",
    "    def __init__(self, label_encoder, base_dir, transform=None):\n",
    "        super().__init__()\n",
    "    \n",
    "        self.base_dir = base_dir\n",
    "        self.label_encoder = label_encoder\n",
    "        self.transform = transform\n",
    "        \n",
    "    def __len__(self):\n",
    "        return len(self.base_dir)\n",
    "    \n",
    "    def __getitem__(self, index):\n",
    "        \n",
    "        image_path = self.base_dir[index]\n",
    "        \n",
    "        image = Image.open(image_path).convert('RGB') ## 因為可能dataset有4維，所以要轉成RGB\n",
    "        \n",
    "        #get label\n",
    "        label_name = image_path.split('/')[-2]\n",
    "        \n",
    "        #label encoding \n",
    "        label = self.label_encoder.transform([label_name])[0]\n",
    "        \n",
    "        if self.transform is not None:\n",
    "            image = self.transform(image)\n",
    "        return (image, label)"
   ]
  },
  {
   "cell_type": "code",
   "execution_count": 11,
   "id": "9f382331",
   "metadata": {},
   "outputs": [],
   "source": [
    "train_data = ImageDataset(le, train_data_path, training_transforms)\n",
    "test_data = ImageDataset(le, test_data_path, testing_transforms)\n",
    "valid_data = ImageDataset(le, valid_data_path, validation_transforms)"
   ]
  },
  {
   "cell_type": "code",
   "execution_count": 12,
   "id": "6aea1888",
   "metadata": {},
   "outputs": [],
   "source": [
    "from torch.utils.data import DataLoader\n",
    "train_loader = DataLoader(train_data, batch_size = 8, shuffle = True)\n",
    "valid_loader = DataLoader(valid_data, batch_size = 8, shuffle = True)\n",
    "test_loader = DataLoader(test_data, batch_size = 8, shuffle = True)\n",
    "#len of dataloader is number of batch"
   ]
  },
  {
   "cell_type": "code",
   "execution_count": 13,
   "id": "02daaebf",
   "metadata": {},
   "outputs": [
    {
     "name": "stderr",
     "output_type": "stream",
     "text": [
      "Clipping input data to the valid range for imshow with RGB data ([0..1] for floats or [0..255] for integers).\n"
     ]
    },
    {
     "name": "stdout",
     "output_type": "stream",
     "text": [
      "torch.Size([8, 3, 224, 224])\n"
     ]
    },
    {
     "data": {
      "image/png": "[encoded data removed]",
      "text/plain": [
       "<Figure size 432x288 with 1 Axes>"
      ]
     },
     "metadata": {
      "needs_background": "light"
     },
     "output_type": "display_data"
    },
    {
     "name": "stdout",
     "output_type": "stream",
     "text": [
      "3 2 2 3 3 4 2 0\n"
     ]
    }
   ],
   "source": [
    "import matplotlib.pyplot as plt\n",
    "import numpy as np\n",
    "import torchvision\n",
    "# functions to show an image\n",
    "\n",
    "\n",
    "def imshow(img):\n",
    "    img = img / 2 + 0.5     # unnormalize\n",
    "    npimg = img.numpy()\n",
    "    plt.imshow(np.transpose(npimg, (1, 2, 0)))\n",
    "    plt.show()\n",
    "\n",
    "\n",
    "# get some random training images\n",
    "dataiter = iter(train_loader)\n",
    "images, labels = next(dataiter)\n",
    "print(images.shape)\n",
    "# show images\n",
    "imshow(torchvision.utils.make_grid(images))\n",
    "# print labels\n",
    "print(' '.join(f'{labels[j]}' for j in range(8)))"
   ]
  },
  {
   "cell_type": "code",
   "execution_count": 14,
   "id": "9c76896c",
   "metadata": {},
   "outputs": [],
   "source": [
    "# Function to show the images\n",
    "def imageshow(img):\n",
    "    img = img / 2 + 0.5     # unnormalize\n",
    "    npimg = img.numpy()\n",
    "    plt.imshow(np.transpose(npimg, (1, 2, 0)))\n",
    "    plt.show()\n",
    "\n",
    "\n",
    "# Function to test the model with a batch of images and show the labels predictions\n",
    "def testBatch():\n",
    "    # get batch of images from the test DataLoader  \n",
    "    images, labels = next(iter(test_loader))\n",
    "\n",
    "    # show all images as one image grid\n",
    "    imageshow(torchvision.utils.make_grid(images))\n",
    "   \n",
    "    # Show the real labels on the screen \n",
    "    print('Real labels: ', ' '.join('%5s' % classes[labels[j]] \n",
    "                               for j in range(batch_size)))\n",
    "    outputs = model(images)\n",
    "    \n",
    "    _, predicted = torch.max(outputs, 1)\n",
    "    \n",
    "    print('Predicted: ', ' '.join('%5s' % classes[predicted[j]] \n",
    "                              for j in range(batch_size)))"
   ]
  },
  {
   "cell_type": "code",
   "execution_count": 15,
   "id": "a3b1405b",
   "metadata": {},
   "outputs": [],
   "source": [
    "# Function to save the model\n",
    "def saveModel():\n",
    "    path = \"./ResNet18+intel.pth\"\n",
    "    torch.save(model.state_dict(), path)\n",
    "\n",
    "# Function to test the model with the test dataset and print the accuracy for the test images\n",
    "def testAccuracy():\n",
    "    model.eval()\n",
    "    accuracy = 0.0\n",
    "    total = 0.0\n",
    "    \n",
    "    with torch.no_grad():\n",
    "        for data in valid_loader:\n",
    "            images, labels = data\n",
    "            images = Variable(images.to(device))\n",
    "            labels = Variable(labels.to(device))\n",
    "            # run the model on the test set to predict labels\n",
    "            outputs = model(images)\n",
    "            # the label with the highest energy will be our prediction\n",
    "            _, predicted = torch.max(outputs.data, 1)\n",
    "            total += labels.size(0)\n",
    "            accuracy += (predicted == labels).sum().item()\n",
    "    \n",
    "    # compute the accuracy over all test images\n",
    "    accuracy = (100 * accuracy / total)\n",
    "    return(accuracy)"
   ]
  },
  {
   "cell_type": "code",
   "execution_count": 16,
   "id": "681ebfbe",
   "metadata": {},
   "outputs": [],
   "source": [
    "class Block(nn.Module):\n",
    "    \n",
    "    def __init__(self, in_channels, out_channels, identity_downsample=None, stride=1):\n",
    "        super(Block, self).__init__()\n",
    "        self.conv1 = nn.Conv2d(in_channels, out_channels, kernel_size=3, stride=stride, padding=1)\n",
    "        self.bn1 = nn.BatchNorm2d(out_channels)\n",
    "        self.conv2 = nn.Conv2d(out_channels, out_channels, kernel_size=3, stride=1, padding=1)\n",
    "        self.bn2 = nn.BatchNorm2d(out_channels)\n",
    "        self.relu = nn.ReLU()\n",
    "        self.identity_downsample = identity_downsample\n",
    "        \n",
    "    def forward(self, x):\n",
    "        identity = x\n",
    "        x = self.conv1(x)\n",
    "        x = self.bn1(x)\n",
    "        x = self.relu(x)\n",
    "        x = self.conv2(x)\n",
    "        x = self.bn2(x)\n",
    "        if self.identity_downsample is not None:\n",
    "            identity = self.identity_downsample(identity)\n",
    "        x += identity\n",
    "        x = self.relu(x)\n",
    "        return x\n",
    "\n",
    "class ResNet_18(nn.Module):\n",
    "    \n",
    "    def __init__(self, image_channels, num_classes):\n",
    "        \n",
    "        super(ResNet_18, self).__init__()\n",
    "        self.in_channels = 64\n",
    "        self.conv1 = nn.Conv2d(image_channels, 64, kernel_size=7, stride=2, padding=3)\n",
    "        self.bn1 = nn.BatchNorm2d(64)\n",
    "        self.relu = nn.ReLU()\n",
    "        self.maxpool = nn.MaxPool2d(kernel_size=3, stride=2, padding=1)\n",
    "        \n",
    "        #resnet layers\n",
    "        self.layer1 = self.__make_layer(64, 64, stride=1)\n",
    "        self.layer2 = self.__make_layer(64, 128, stride=2)\n",
    "        self.layer3 = self.__make_layer(128, 256, stride=2)\n",
    "        self.layer4 = self.__make_layer(256, 512, stride=2)\n",
    "        \n",
    "        self.avgpool = nn.AdaptiveAvgPool2d((1, 1))\n",
    "        self.fc = nn.Linear(512, num_classes)\n",
    "        \n",
    "    def __make_layer(self, in_channels, out_channels, stride):\n",
    "        \n",
    "        identity_downsample = None\n",
    "        if stride != 1:\n",
    "            identity_downsample = self.identity_downsample(in_channels, out_channels)\n",
    "            \n",
    "        return nn.Sequential(\n",
    "            Block(in_channels, out_channels, identity_downsample=identity_downsample, stride=stride), \n",
    "            Block(out_channels, out_channels)\n",
    "        )\n",
    "        \n",
    "    def forward(self, x):\n",
    "        \n",
    "        x = self.conv1(x)\n",
    "        x = self.bn1(x)\n",
    "        x = self.relu(x)\n",
    "        x = self.maxpool(x)\n",
    "        \n",
    "        x = self.layer1(x)\n",
    "        x = self.layer2(x)\n",
    "        x = self.layer3(x)\n",
    "        x = self.layer4(x)\n",
    "        \n",
    "        x = self.avgpool(x)\n",
    "        x = x.view(x.shape[0], -1)\n",
    "        x = self.fc(x)\n",
    "        return x \n",
    "    \n",
    "    def identity_downsample(self, in_channels, out_channels):\n",
    "        \n",
    "        return nn.Sequential(\n",
    "            nn.Conv2d(in_channels, out_channels, kernel_size=3, stride=2, padding=1), \n",
    "            nn.BatchNorm2d(out_channels)\n",
    "        )"
   ]
  },
  {
   "cell_type": "code",
   "execution_count": 17,
   "id": "5ce28250",
   "metadata": {
    "scrolled": true
   },
   "outputs": [
    {
     "name": "stdout",
     "output_type": "stream",
     "text": [
      "The model will be running on cuda:0 device\n"
     ]
    },
    {
     "data": {
      "text/plain": [
       "ResNet_18(\n",
       "  (conv1): Conv2d(3, 64, kernel_size=(7, 7), stride=(2, 2), padding=(3, 3))\n",
       "  (bn1): BatchNorm2d(64, eps=1e-05, momentum=0.1, affine=True, track_running_stats=True)\n",
       "  (relu): ReLU()\n",
       "  (maxpool): MaxPool2d(kernel_size=3, stride=2, padding=1, dilation=1, ceil_mode=False)\n",
       "  (layer1): Sequential(\n",
       "    (0): Block(\n",
       "      (conv1): Conv2d(64, 64, kernel_size=(3, 3), stride=(1, 1), padding=(1, 1))\n",
       "      (bn1): BatchNorm2d(64, eps=1e-05, momentum=0.1, affine=True, track_running_stats=True)\n",
       "      (conv2): Conv2d(64, 64, kernel_size=(3, 3), stride=(1, 1), padding=(1, 1))\n",
       "      (bn2): BatchNorm2d(64, eps=1e-05, momentum=0.1, affine=True, track_running_stats=True)\n",
       "      (relu): ReLU()\n",
       "    )\n",
       "    (1): Block(\n",
       "      (conv1): Conv2d(64, 64, kernel_size=(3, 3), stride=(1, 1), padding=(1, 1))\n",
       "      (bn1): BatchNorm2d(64, eps=1e-05, momentum=0.1, affine=True, track_running_stats=True)\n",
       "      (conv2): Conv2d(64, 64, kernel_size=(3, 3), stride=(1, 1), padding=(1, 1))\n",
       "      (bn2): BatchNorm2d(64, eps=1e-05, momentum=0.1, affine=True, track_running_stats=True)\n",
       "      (relu): ReLU()\n",
       "    )\n",
       "  )\n",
       "  (layer2): Sequential(\n",
       "    (0): Block(\n",
       "      (conv1): Conv2d(64, 128, kernel_size=(3, 3), stride=(2, 2), padding=(1, 1))\n",
       "      (bn1): BatchNorm2d(128, eps=1e-05, momentum=0.1, affine=True, track_running_stats=True)\n",
       "      (conv2): Conv2d(128, 128, kernel_size=(3, 3), stride=(1, 1), padding=(1, 1))\n",
       "      (bn2): BatchNorm2d(128, eps=1e-05, momentum=0.1, affine=True, track_running_stats=True)\n",
       "      (relu): ReLU()\n",
       "      (identity_downsample): Sequential(\n",
       "        (0): Conv2d(64, 128, kernel_size=(3, 3), stride=(2, 2), padding=(1, 1))\n",
       "        (1): BatchNorm2d(128, eps=1e-05, momentum=0.1, affine=True, track_running_stats=True)\n",
       "      )\n",
       "    )\n",
       "    (1): Block(\n",
       "      (conv1): Conv2d(128, 128, kernel_size=(3, 3), stride=(1, 1), padding=(1, 1))\n",
       "      (bn1): BatchNorm2d(128, eps=1e-05, momentum=0.1, affine=True, track_running_stats=True)\n",
       "      (conv2): Conv2d(128, 128, kernel_size=(3, 3), stride=(1, 1), padding=(1, 1))\n",
       "      (bn2): BatchNorm2d(128, eps=1e-05, momentum=0.1, affine=True, track_running_stats=True)\n",
       "      (relu): ReLU()\n",
       "    )\n",
       "  )\n",
       "  (layer3): Sequential(\n",
       "    (0): Block(\n",
       "      (conv1): Conv2d(128, 256, kernel_size=(3, 3), stride=(2, 2), padding=(1, 1))\n",
       "      (bn1): BatchNorm2d(256, eps=1e-05, momentum=0.1, affine=True, track_running_stats=True)\n",
       "      (conv2): Conv2d(256, 256, kernel_size=(3, 3), stride=(1, 1), padding=(1, 1))\n",
       "      (bn2): BatchNorm2d(256, eps=1e-05, momentum=0.1, affine=True, track_running_stats=True)\n",
       "      (relu): ReLU()\n",
       "      (identity_downsample): Sequential(\n",
       "        (0): Conv2d(128, 256, kernel_size=(3, 3), stride=(2, 2), padding=(1, 1))\n",
       "        (1): BatchNorm2d(256, eps=1e-05, momentum=0.1, affine=True, track_running_stats=True)\n",
       "      )\n",
       "    )\n",
       "    (1): Block(\n",
       "      (conv1): Conv2d(256, 256, kernel_size=(3, 3), stride=(1, 1), padding=(1, 1))\n",
       "      (bn1): BatchNorm2d(256, eps=1e-05, momentum=0.1, affine=True, track_running_stats=True)\n",
       "      (conv2): Conv2d(256, 256, kernel_size=(3, 3), stride=(1, 1), padding=(1, 1))\n",
       "      (bn2): BatchNorm2d(256, eps=1e-05, momentum=0.1, affine=True, track_running_stats=True)\n",
       "      (relu): ReLU()\n",
       "    )\n",
       "  )\n",
       "  (layer4): Sequential(\n",
       "    (0): Block(\n",
       "      (conv1): Conv2d(256, 512, kernel_size=(3, 3), stride=(2, 2), padding=(1, 1))\n",
       "      (bn1): BatchNorm2d(512, eps=1e-05, momentum=0.1, affine=True, track_running_stats=True)\n",
       "      (conv2): Conv2d(512, 512, kernel_size=(3, 3), stride=(1, 1), padding=(1, 1))\n",
       "      (bn2): BatchNorm2d(512, eps=1e-05, momentum=0.1, affine=True, track_running_stats=True)\n",
       "      (relu): ReLU()\n",
       "      (identity_downsample): Sequential(\n",
       "        (0): Conv2d(256, 512, kernel_size=(3, 3), stride=(2, 2), padding=(1, 1))\n",
       "        (1): BatchNorm2d(512, eps=1e-05, momentum=0.1, affine=True, track_running_stats=True)\n",
       "      )\n",
       "    )\n",
       "    (1): Block(\n",
       "      (conv1): Conv2d(512, 512, kernel_size=(3, 3), stride=(1, 1), padding=(1, 1))\n",
       "      (bn1): BatchNorm2d(512, eps=1e-05, momentum=0.1, affine=True, track_running_stats=True)\n",
       "      (conv2): Conv2d(512, 512, kernel_size=(3, 3), stride=(1, 1), padding=(1, 1))\n",
       "      (bn2): BatchNorm2d(512, eps=1e-05, momentum=0.1, affine=True, track_running_stats=True)\n",
       "      (relu): ReLU()\n",
       "    )\n",
       "  )\n",
       "  (avgpool): AdaptiveAvgPool2d(output_size=(1, 1))\n",
       "  (fc): Linear(in_features=512, out_features=6, bias=True)\n",
       ")"
      ]
     },
     "execution_count": 17,
     "metadata": {},
     "output_type": "execute_result"
    }
   ],
   "source": [
    "model = ResNet_18(3, 6)\n",
    "device = torch.device(\"cuda:0\" if torch.cuda.is_available() else \"cpu\")\n",
    "print(\"The model will be running on\", device, \"device\")\n",
    "# Convert model parameters and buffers to CPU or Cuda\n",
    "model.to(device)"
   ]
  },
  {
   "cell_type": "code",
   "execution_count": 18,
   "id": "1034e0c7",
   "metadata": {},
   "outputs": [],
   "source": [
    "def inference_test():\n",
    "    model.eval()\n",
    "    accuracy = 0.0\n",
    "    total = 0.0\n",
    "    \n",
    "    with torch.no_grad():\n",
    "        for data in test_loader:\n",
    "            images, labels = data\n",
    "            images = Variable(images.to(device))\n",
    "            labels = Variable(labels.to(device))\n",
    "            # run the model on the test set to predict labels\n",
    "            outputs = model(images)\n",
    "            # the label with the highest energy will be our prediction\n",
    "            _, predicted = torch.max(outputs.data, 1)\n",
    "            total += labels.size(0)\n",
    "            accuracy += (predicted == labels).sum().item()\n",
    "    \n",
    "    # compute the accuracy over all test images\n",
    "    accuracy = (100 * accuracy / total)\n",
    "    print(f\"testing accuracy : {accuracy}%\")\n"
   ]
  },
  {
   "cell_type": "code",
   "execution_count": 44,
   "id": "1ff33b3a",
   "metadata": {
    "scrolled": true
   },
   "outputs": [
    {
     "name": "stdout",
     "output_type": "stream",
     "text": [
      "For epoch 1 the test accuracy over the whole test set is 74 %\n",
      "time : 3.5973901748657227\n",
      "For epoch 2 the test accuracy over the whole test set is 73 %\n",
      "time : 7.103187084197998\n",
      "For epoch 3 the test accuracy over the whole test set is 75 %\n",
      "time : 10.68936014175415\n",
      "For epoch 4 the test accuracy over the whole test set is 71 %\n",
      "time : 14.190565347671509\n",
      "For epoch 5 the test accuracy over the whole test set is 73 %\n",
      "time : 17.928467988967896\n",
      "For epoch 6 the test accuracy over the whole test set is 75 %\n",
      "time : 21.47659134864807\n",
      "For epoch 7 the test accuracy over the whole test set is 73 %\n",
      "time : 24.933626890182495\n",
      "For epoch 8 the test accuracy over the whole test set is 71 %\n",
      "time : 28.637845039367676\n",
      "For epoch 9 the test accuracy over the whole test set is 71 %\n",
      "time : 32.1144654750824\n",
      "For epoch 10 the test accuracy over the whole test set is 71 %\n",
      "time : 35.58352255821228\n",
      "For epoch 11 the test accuracy over the whole test set is 70 %\n",
      "time : 39.05914855003357\n",
      "For epoch 12 the test accuracy over the whole test set is 73 %\n",
      "time : 42.524521589279175\n",
      "For epoch 13 the test accuracy over the whole test set is 71 %\n",
      "time : 46.00468897819519\n",
      "For epoch 14 the test accuracy over the whole test set is 71 %\n",
      "time : 49.4910147190094\n",
      "For epoch 15 the test accuracy over the whole test set is 75 %\n",
      "time : 53.03459119796753\n",
      "For epoch 16 the test accuracy over the whole test set is 74 %\n",
      "time : 56.83351492881775\n",
      "For epoch 17 the test accuracy over the whole test set is 77 %\n",
      "time : 60.8670699596405\n",
      "For epoch 18 the test accuracy over the whole test set is 79 %\n",
      "time : 64.76947832107544\n",
      "For epoch 19 the test accuracy over the whole test set is 75 %\n",
      "time : 68.54385614395142\n",
      "For epoch 20 the test accuracy over the whole test set is 73 %\n",
      "time : 72.13778924942017\n",
      "For epoch 21 the test accuracy over the whole test set is 80 %\n",
      "time : 75.7876763343811\n",
      "For epoch 22 the test accuracy over the whole test set is 79 %\n",
      "time : 79.4731912612915\n",
      "For epoch 23 the test accuracy over the whole test set is 79 %\n",
      "time : 83.04177927970886\n",
      "For epoch 24 the test accuracy over the whole test set is 75 %\n",
      "time : 86.60711932182312\n",
      "For epoch 25 the test accuracy over the whole test set is 71 %\n",
      "time : 90.15951442718506\n",
      "For epoch 26 the test accuracy over the whole test set is 71 %\n",
      "time : 93.692058801651\n",
      "For epoch 27 the test accuracy over the whole test set is 79 %\n",
      "time : 97.27893018722534\n",
      "For epoch 28 the test accuracy over the whole test set is 75 %\n",
      "time : 102.00022411346436\n",
      "For epoch 29 the test accuracy over the whole test set is 77 %\n",
      "time : 106.25315713882446\n",
      "For epoch 30 the test accuracy over the whole test set is 73 %\n",
      "time : 110.22180581092834\n",
      "For epoch 31 the test accuracy over the whole test set is 71 %\n",
      "time : 113.82214117050171\n",
      "For epoch 32 the test accuracy over the whole test set is 72 %\n",
      "time : 117.41526651382446\n",
      "For epoch 33 the test accuracy over the whole test set is 75 %\n",
      "time : 120.97940325737\n",
      "For epoch 34 the test accuracy over the whole test set is 69 %\n",
      "time : 124.58750128746033\n",
      "For epoch 35 the test accuracy over the whole test set is 73 %\n",
      "time : 128.20620226860046\n",
      "For epoch 36 the test accuracy over the whole test set is 69 %\n",
      "time : 132.06439638137817\n",
      "For epoch 37 the test accuracy over the whole test set is 77 %\n",
      "time : 135.65840458869934\n",
      "For epoch 38 the test accuracy over the whole test set is 74 %\n",
      "time : 139.20575833320618\n",
      "For epoch 39 the test accuracy over the whole test set is 79 %\n",
      "time : 142.80352568626404\n",
      "For epoch 40 the test accuracy over the whole test set is 69 %\n",
      "time : 146.4759657382965\n",
      "For epoch 41 the test accuracy over the whole test set is 69 %\n",
      "time : 150.08399367332458\n",
      "For epoch 42 the test accuracy over the whole test set is 75 %\n",
      "time : 153.65530061721802\n",
      "For epoch 43 the test accuracy over the whole test set is 75 %\n",
      "time : 157.21268773078918\n",
      "For epoch 44 the test accuracy over the whole test set is 75 %\n",
      "time : 160.7621626853943\n",
      "For epoch 45 the test accuracy over the whole test set is 75 %\n",
      "time : 164.34387922286987\n",
      "For epoch 46 the test accuracy over the whole test set is 75 %\n",
      "time : 167.92348670959473\n",
      "For epoch 47 the test accuracy over the whole test set is 75 %\n",
      "time : 171.5023250579834\n",
      "For epoch 48 the test accuracy over the whole test set is 73 %\n",
      "time : 175.12795972824097\n",
      "For epoch 49 the test accuracy over the whole test set is 75 %\n",
      "time : 178.72467637062073\n",
      "For epoch 50 the test accuracy over the whole test set is 77 %\n",
      "time : 182.34590220451355\n",
      "testing accuracy : 75.29411764705883%\n"
     ]
    }
   ],
   "source": [
    "if __name__ == \"__main__\":\n",
    "    start = time.time()\n",
    "    num_epochs = 50\n",
    "    best_accuracy = 0.0\n",
    "    accuracy_history = []\n",
    "    loss_history = []\n",
    "    valid_history = []\n",
    "    loss_fn = nn.CrossEntropyLoss()\n",
    "    optimizer = Adam(model.parameters(), lr=0.001, weight_decay=0.0001)\n",
    "    for epoch in range(num_epochs):  # loop over the dataset multiple times\n",
    "        running_loss = 0.0\n",
    "        running_acc = 0.0\n",
    "\n",
    "        for i, (images, labels) in enumerate(train_loader, 0):\n",
    "            \n",
    "            images = Variable(images.to(device))\n",
    "            labels = Variable(labels.to(device))\n",
    "            #將梯度初始化为零\n",
    "            optimizer.zero_grad()\n",
    "            # 向前傳播求出預測的值\n",
    "            outputs = model(images)\n",
    "            # 用output和label計算loss\n",
    "            loss = loss_fn(outputs, labels)\n",
    "            # 反向傳播\n",
    "            loss.backward()\n",
    "            # 更新參數\n",
    "            optimizer.step()\n",
    "\n",
    "            # Let's print statistics for every 1,000 images\n",
    "            running_loss += loss.item()     # extract the loss value\n",
    "            loss_history.append(loss.item())\n",
    "            if i % 100 == 99:    \n",
    "                print('[%d, %5d] loss: %.3f' %\n",
    "                      (epoch + 1, i + 1, running_loss / 100))\n",
    "                # zero the loss\n",
    "                running_loss = 0.0\n",
    "\n",
    "        # Compute and print the average accuracy fo this epoch when tested over all 10000 test images\n",
    "        accuracy = testAccuracy()\n",
    "        valid_history.append(accuracy)\n",
    "        print('For epoch', epoch+1,'the test accuracy over the whole test set is %d %%' % (accuracy))\n",
    "        \n",
    "        # we want to save the model if the accuracy is the best\n",
    "        if accuracy > best_accuracy:\n",
    "            path = \"./ResNet18+intel1.pth\"\n",
    "            torch.save(model.state_dict(), path)\n",
    "            best_accuracy = accuracy\n",
    "        end = time.time()\n",
    "        print(f\"time : {end-start}\")\n",
    "        \n",
    "    inference_test()"
   ]
  },
  {
   "cell_type": "code",
   "execution_count": 45,
   "id": "a9dbd0da",
   "metadata": {},
   "outputs": [
    {
     "data": {
      "text/plain": [
       "<matplotlib.legend.Legend at 0x7fdbccf09f10>"
      ]
     },
     "execution_count": 45,
     "metadata": {},
     "output_type": "execute_result"
    },
    {
     "data": {
      "image/png": "[encoded data removed]",
      "text/plain": [
       "<Figure size 720x360 with 1 Axes>"
      ]
     },
     "metadata": {
      "needs_background": "light"
     },
     "output_type": "display_data"
    }
   ],
   "source": [
    "plt.figure(figsize=(10,5))\n",
    "plt.title(\"Training Loss\")\n",
    "plt.plot(loss_history,label=\"train\")\n",
    "plt.xlabel(\"iterations\")\n",
    "plt.ylabel(\"Loss\")\n",
    "plt.legend()"
   ]
  },
  {
   "cell_type": "code",
   "execution_count": 46,
   "id": "8c88e100",
   "metadata": {},
   "outputs": [
    {
     "data": {
      "text/plain": [
       "<matplotlib.legend.Legend at 0x7fdbccfdb160>"
      ]
     },
     "execution_count": 46,
     "metadata": {},
     "output_type": "execute_result"
    },
    {
     "data": {
      "image/png": "[encoded data removed]",
      "text/plain": [
       "<Figure size 720x360 with 1 Axes>"
      ]
     },
     "metadata": {
      "needs_background": "light"
     },
     "output_type": "display_data"
    }
   ],
   "source": [
    "plt.figure(figsize=(10,5))\n",
    "plt.title(\"Validation accuracy\")\n",
    "plt.plot(valid_history,label=\"validation\")\n",
    "plt.xlabel(\"iterations\")\n",
    "plt.ylabel(\"Acc\")\n",
    "plt.legend()"
   ]
  },
  {
   "cell_type": "code",
   "execution_count": null,
   "id": "c2955622",
   "metadata": {},
   "outputs": [],
   "source": [
    "def draw_confusion_matrix():\n",
    "\n",
    "    y_pred = []\n",
    "    y_true = []\n",
    "\n",
    "    # iterate over test data\n",
    "    for data in test_loader:\n",
    "        images, labels = data\n",
    "        images = Variable(images.to(device))\n",
    "\n",
    "        output = model(images) # Feed Network\n",
    "        _, predicted = torch.max(output.data, 1)\n",
    "        predicted = predicted.data.cpu().numpy()\n",
    "        y_pred.extend(predicted) # Save Prediction\n",
    "\n",
    "        y_true.extend(labels) # Save Truth\n",
    "\n",
    "    # Build confusion matrix\n",
    "    cf_matrix = confusion_matrix(y_true, y_pred)\n",
    "    df_cm = pd.DataFrame(cf_matrix / np.sum(cf_matrix, axis=1)[:, None], index = [i for i in class_list],\n",
    "                         columns = [i for i in class_list])\n",
    "    plt.figure(figsize = (12,7))\n",
    "    sb.heatmap(df_cm, annot=True)\n",
    "    score = f1_score(y_true,y_pred,average='macro')\n",
    "    print(f\"f1 score is {score}\")\n",
    "    #plt.savefig('output.png')\n",
    "\n",
    "draw_confusion_matrix()"
   ]
  },
  {
   "cell_type": "code",
   "execution_count": null,
   "id": "2278240c",
   "metadata": {},
   "outputs": [],
   "source": []
  }
 ],
 "metadata": {
  "kernelspec": {
   "display_name": "Python 3 (ipykernel)",
   "language": "python",
   "name": "python3"
  },
  "language_info": {
   "codemirror_mode": {
    "name": "ipython",
    "version": 3
   },
   "file_extension": ".py",
   "mimetype": "text/x-python",
   "name": "python",
   "nbconvert_exporter": "python",
   "pygments_lexer": "ipython3",
   "version": "3.8.12"
  }
 },
 "nbformat": 4,
 "nbformat_minor": 5
}

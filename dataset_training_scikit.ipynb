{
 "cells": [
  {
   "cell_type": "code",
   "execution_count": 1,
   "id": "b6713fcd",
   "metadata": {},
   "outputs": [
    {
     "name": "stdout",
     "output_type": "stream",
     "text": [
      "Requirement already satisfied: scikit_learn in /opt/conda/lib/python3.8/site-packages (1.2.2)\n",
      "Requirement already satisfied: numpy>=1.17.3 in /opt/conda/lib/python3.8/site-packages (from scikit_learn) (1.21.2)\n",
      "Requirement already satisfied: joblib>=1.1.1 in /opt/conda/lib/python3.8/site-packages (from scikit_learn) (1.2.0)\n",
      "Requirement already satisfied: scipy>=1.3.2 in /opt/conda/lib/python3.8/site-packages (from scikit_learn) (1.9.1)\n",
      "Requirement already satisfied: threadpoolctl>=2.0.0 in /opt/conda/lib/python3.8/site-packages (from scikit_learn) (3.1.0)\n",
      "\u001b[33mWARNING: Running pip as the 'root' user can result in broken permissions and conflicting behaviour with the system package manager. It is recommended to use a virtual environment instead: https://pip.pypa.io/warnings/venv\u001b[0m\n"
     ]
    }
   ],
   "source": [
    "!pip install scikit_learn"
   ]
  },
  {
   "cell_type": "code",
   "execution_count": 2,
   "id": "9bfd9045",
   "metadata": {},
   "outputs": [],
   "source": [
    "# Imports here\n",
    "import numpy as np\n",
    "import pandas as pd\n",
    "import matplotlib.pyplot as plt\n",
    "import seaborn as sb\n",
    "import cv2\n",
    "from tqdm import tqdm\n",
    "import torch\n",
    "from torch import nn\n",
    "from torch import optim\n",
    "import torch.nn.functional as F\n",
    "from torchvision import datasets, transforms, models\n",
    "from torchviz import make_dot, make_dot_from_trace\n",
    "from torch.utils.data import DataLoader, Dataset\n",
    "import os\n",
    "import torch.nn.functional as F\n",
    "from torchsummary import summary\n",
    "from torchvision.datasets import CIFAR10\n",
    "from torchvision.transforms import transforms\n",
    "from torch.utils.data import DataLoader\n",
    "from torch.optim import Adam\n",
    "import time\n",
    "import pathlib\n",
    "from torch.optim import Adam\n",
    "from torch.autograd import Variable\n",
    "from sklearn import preprocessing\n",
    "from sklearn.model_selection import train_test_split\n",
    "from sklearn.metrics import confusion_matrix\n",
    "from sklearn.metrics import f1_score\n",
    "import sklearn"
   ]
  },
  {
   "cell_type": "code",
   "execution_count": 3,
   "id": "c9a286a1",
   "metadata": {},
   "outputs": [
    {
     "name": "stdout",
     "output_type": "stream",
     "text": [
      "real_data\n"
     ]
    }
   ],
   "source": [
    "data_dir = pathlib.Path('./real_data')\n",
    "print(data_dir)"
   ]
  },
  {
   "cell_type": "code",
   "execution_count": 4,
   "id": "aadfebfa",
   "metadata": {},
   "outputs": [
    {
     "name": "stdout",
     "output_type": "stream",
     "text": [
      "['dogs', 'horses', 'cats', 'flowers', 'human']\n",
      "Current working directory: /demo\n",
      "[1 3 0 2 4]\n",
      "['dogs' 'horses' 'cats' 'flowers' 'human']\n"
     ]
    }
   ],
   "source": [
    "os.chdir(data_dir)\n",
    "class_names = [name for name in os.listdir(\".\") if os.path.isdir(name)]\n",
    "class_names.remove('.ipynb_checkpoints')\n",
    "class_names.remove('bike') #bmp file can not use\n",
    "class_names.remove('cars') #bmp file can not feed into the model\n",
    "print(class_names)\n",
    "os.chdir('../')\n",
    "cwd = os.getcwd()\n",
    "print(\"Current working directory: {0}\".format(cwd))\n",
    "#label encoder\n",
    "le = preprocessing.LabelEncoder()\n",
    "le.fit(class_names)\n",
    "label_list = le.transform(class_names)\n",
    "class_list = le.inverse_transform(label_list)\n",
    "print(label_list)\n",
    "print(class_list)\n",
    "num_class = len(class_names)\n",
    "\n",
    "image_files = [[os.path.join(data_dir, class_name, x) for x in os.listdir(os.path.join(data_dir, class_name))] for class_name in class_names]"
   ]
  },
  {
   "cell_type": "code",
   "execution_count": 5,
   "id": "4c4ffb25",
   "metadata": {},
   "outputs": [
    {
     "name": "stdout",
     "output_type": "stream",
     "text": [
      "1\n"
     ]
    }
   ],
   "source": [
    "# the way to get label\n",
    "z = le.transform(['dogs'])[0]\n",
    "print(z)"
   ]
  },
  {
   "cell_type": "code",
   "execution_count": 6,
   "id": "97f963d2",
   "metadata": {},
   "outputs": [
    {
     "name": "stdout",
     "output_type": "stream",
     "text": [
      "Number of image 1018\n"
     ]
    }
   ],
   "source": [
    "images_paths = []\n",
    "for i in range(num_class):\n",
    "    for j in range(len(image_files[i])):\n",
    "        current = image_files[i]\n",
    "        images_paths.append(current[j])\n",
    "print(f\"Number of image {len(images_paths)}\")"
   ]
  },
  {
   "cell_type": "code",
   "execution_count": 7,
   "id": "26d89c69",
   "metadata": {},
   "outputs": [],
   "source": [
    "training_transforms = transforms.Compose([transforms.Resize(256),\n",
    "                                          transforms.RandomResizedCrop(224),\n",
    "                                          transforms.RandomHorizontalFlip(),\n",
    "                                          transforms.ToTensor(),\n",
    "                                          transforms.Normalize([0.485, 0.456, 0.406], \n",
    "                                                               [0.229, 0.224, 0.225])])\n",
    "\n",
    "validation_transforms = transforms.Compose([transforms.Resize(256),\n",
    "                                            transforms.CenterCrop(224),\n",
    "                                            transforms.ToTensor(),\n",
    "                                            transforms.Normalize([0.485, 0.456, 0.406], \n",
    "                                                                 [0.229, 0.224, 0.225])])\n",
    "\n",
    "testing_transforms = transforms.Compose([transforms.Resize(256),\n",
    "                                         transforms.CenterCrop(224),\n",
    "                                         transforms.ToTensor(),\n",
    "                                         transforms.Normalize([0.485, 0.456, 0.406], \n",
    "                                                              [0.229, 0.224, 0.225])])"
   ]
  },
  {
   "cell_type": "code",
   "execution_count": 8,
   "id": "9bb02608",
   "metadata": {},
   "outputs": [
    {
     "name": "stdout",
     "output_type": "stream",
     "text": [
      "610\n",
      "153\n",
      "255\n"
     ]
    }
   ],
   "source": [
    "train_and_valid_data,test_data_path = train_test_split(images_paths,shuffle = True)\n",
    "train_data_path, valid_data_path = train_test_split(train_and_valid_data, shuffle = True, test_size = 0.2)\n",
    "print(len(train_data_path))\n",
    "print(len(valid_data_path))\n",
    "print(len(test_data_path))"
   ]
  },
  {
   "cell_type": "code",
   "execution_count": 9,
   "id": "108d22fa",
   "metadata": {},
   "outputs": [
    {
     "data": {
      "text/plain": [
       "'real_data/dogs/dog.60.jpg'"
      ]
     },
     "execution_count": 9,
     "metadata": {},
     "output_type": "execute_result"
    }
   ],
   "source": [
    "train_data_path[0]"
   ]
  },
  {
   "cell_type": "code",
   "execution_count": 10,
   "id": "2772b1bb",
   "metadata": {},
   "outputs": [],
   "source": [
    "from torch.utils.data import Dataset\n",
    "from random import randint\n",
    "from PIL import Image\n",
    "class ImageDataset(Dataset):\n",
    "    def __init__(self, label_encoder, base_dir, transform=None):\n",
    "        super().__init__()\n",
    "    \n",
    "        self.base_dir = base_dir\n",
    "        self.label_encoder = label_encoder\n",
    "        self.transform = transform\n",
    "        \n",
    "    def __len__(self):\n",
    "        return len(self.base_dir)\n",
    "    \n",
    "    def __getitem__(self, index):\n",
    "        \n",
    "        image_path = self.base_dir[index]\n",
    "        \n",
    "        image = Image.open(image_path).convert('RGB') ## 因為可能dataset有4維，所以要轉成RGB\n",
    "        \n",
    "        #get label\n",
    "        label_name = image_path.split('/')[-2]\n",
    "        \n",
    "        #label encoding \n",
    "        label = self.label_encoder.transform([label_name])[0]\n",
    "        \n",
    "        if self.transform is not None:\n",
    "            image = self.transform(image)\n",
    "        return (image, label)"
   ]
  },
  {
   "cell_type": "code",
   "execution_count": 11,
   "id": "9f382331",
   "metadata": {},
   "outputs": [],
   "source": [
    "train_data = ImageDataset(le, train_data_path, training_transforms)\n",
    "test_data = ImageDataset(le, test_data_path, testing_transforms)\n",
    "valid_data = ImageDataset(le, valid_data_path, validation_transforms)"
   ]
  },
  {
   "cell_type": "code",
   "execution_count": 12,
   "id": "6aea1888",
   "metadata": {},
   "outputs": [],
   "source": [
    "from torch.utils.data import DataLoader\n",
    "train_loader = DataLoader(train_data, batch_size = 8, shuffle = True)\n",
    "valid_loader = DataLoader(valid_data, batch_size = 8, shuffle = True)\n",
    "test_loader = DataLoader(test_data, batch_size = 8, shuffle = True)\n",
    "#len of dataloader is number of batch"
   ]
  },
  {
   "cell_type": "code",
   "execution_count": 13,
   "id": "02daaebf",
   "metadata": {},
   "outputs": [
    {
     "name": "stderr",
     "output_type": "stream",
     "text": [
      "Clipping input data to the valid range for imshow with RGB data ([0..1] for floats or [0..255] for integers).\n"
     ]
    },
    {
     "name": "stdout",
     "output_type": "stream",
     "text": [
      "torch.Size([8, 3, 224, 224])\n"
     ]
    },
    {
     "data": {
      "image/png": "[encoded data removed]",
      "text/plain": [
       "<Figure size 432x288 with 1 Axes>"
      ]
     },
     "metadata": {
      "needs_background": "light"
     },
     "output_type": "display_data"
    },
    {
     "name": "stdout",
     "output_type": "stream",
     "text": [
      "4 0 1 4 0 2 3 0\n"
     ]
    }
   ],
   "source": [
    "import matplotlib.pyplot as plt\n",
    "import numpy as np\n",
    "import torchvision\n",
    "# functions to show an image\n",
    "\n",
    "\n",
    "def imshow(img):\n",
    "    img = img / 2 + 0.5     # unnormalize\n",
    "    npimg = img.numpy()\n",
    "    plt.imshow(np.transpose(npimg, (1, 2, 0)))\n",
    "    plt.show()\n",
    "\n",
    "\n",
    "# get some random training images\n",
    "dataiter = iter(train_loader)\n",
    "images, labels = next(dataiter)\n",
    "print(images.shape)\n",
    "# show images\n",
    "imshow(torchvision.utils.make_grid(images))\n",
    "# print labels\n",
    "print(' '.join(f'{labels[j]}' for j in range(8)))"
   ]
  },
  {
   "cell_type": "code",
   "execution_count": 14,
   "id": "9c76896c",
   "metadata": {},
   "outputs": [],
   "source": [
    "# Function to show the images\n",
    "def imageshow(img):\n",
    "    img = img / 2 + 0.5     # unnormalize\n",
    "    npimg = img.numpy()\n",
    "    plt.imshow(np.transpose(npimg, (1, 2, 0)))\n",
    "    plt.show()\n",
    "\n",
    "\n",
    "# Function to test the model with a batch of images and show the labels predictions\n",
    "def testBatch():\n",
    "    # get batch of images from the test DataLoader  \n",
    "    images, labels = next(iter(test_loader))\n",
    "\n",
    "    # show all images as one image grid\n",
    "    imageshow(torchvision.utils.make_grid(images))\n",
    "   \n",
    "    # Show the real labels on the screen \n",
    "    print('Real labels: ', ' '.join('%5s' % classes[labels[j]] \n",
    "                               for j in range(batch_size)))\n",
    "    outputs = model(images)\n",
    "    \n",
    "    _, predicted = torch.max(outputs, 1)\n",
    "    \n",
    "    print('Predicted: ', ' '.join('%5s' % classes[predicted[j]] \n",
    "                              for j in range(batch_size)))"
   ]
  },
  {
   "cell_type": "code",
   "execution_count": 15,
   "id": "a3b1405b",
   "metadata": {},
   "outputs": [],
   "source": [
    "# Function to save the model\n",
    "def saveModel():\n",
    "    path = \"./ResNet18+intel.pth\"\n",
    "    torch.save(model.state_dict(), path)\n",
    "\n",
    "# Function to test the model with the test dataset and print the accuracy for the test images\n",
    "def testAccuracy():\n",
    "    model.eval()\n",
    "    accuracy = 0.0\n",
    "    total = 0.0\n",
    "    valid_loss = 0.0\n",
    "    loss_fn = nn.CrossEntropyLoss()\n",
    "    number = 0\n",
    "    with torch.no_grad():\n",
    "        for data in valid_loader:\n",
    "            images, labels = data\n",
    "            images = Variable(images.to(device))\n",
    "            labels = Variable(labels.to(device))\n",
    "            # run the model on the test set to predict labels\n",
    "            outputs = model(images)\n",
    "            # the label with the highest energy will be our prediction\n",
    "            _, predicted = torch.max(outputs.data, 1)\n",
    "            valid_loss += loss_fn(outputs, labels).item()\n",
    "            total += labels.size(0)\n",
    "            accuracy += (predicted == labels).sum().item()\n",
    "            number += 1\n",
    "    # compute the accuracy over all test images\n",
    "    accuracy = (100 * accuracy / total)\n",
    "    loss = valid_loss / number\n",
    "    return(accuracy,loss)"
   ]
  },
  {
   "cell_type": "code",
   "execution_count": 16,
   "id": "681ebfbe",
   "metadata": {},
   "outputs": [],
   "source": [
    "class Block(nn.Module):\n",
    "    \n",
    "    def __init__(self, in_channels, out_channels, identity_downsample=None, stride=1):\n",
    "        super(Block, self).__init__()\n",
    "        self.conv1 = nn.Conv2d(in_channels, out_channels, kernel_size=3, stride=stride, padding=1)\n",
    "        self.bn1 = nn.BatchNorm2d(out_channels)\n",
    "        self.conv2 = nn.Conv2d(out_channels, out_channels, kernel_size=3, stride=1, padding=1)\n",
    "        self.bn2 = nn.BatchNorm2d(out_channels)\n",
    "        self.relu = nn.ReLU()\n",
    "        self.identity_downsample = identity_downsample\n",
    "        \n",
    "    def forward(self, x):\n",
    "        identity = x\n",
    "        x = self.conv1(x)\n",
    "        x = self.bn1(x)\n",
    "        x = self.relu(x)\n",
    "        x = self.conv2(x)\n",
    "        x = self.bn2(x)\n",
    "        if self.identity_downsample is not None:\n",
    "            identity = self.identity_downsample(identity)\n",
    "        x += identity\n",
    "        x = self.relu(x)\n",
    "        return x\n",
    "\n",
    "class ResNet_18(nn.Module):\n",
    "    \n",
    "    def __init__(self, image_channels, num_classes):\n",
    "        \n",
    "        super(ResNet_18, self).__init__()\n",
    "        self.in_channels = 64\n",
    "        self.conv1 = nn.Conv2d(image_channels, 64, kernel_size=7, stride=2, padding=3)\n",
    "        self.bn1 = nn.BatchNorm2d(64)\n",
    "        self.relu = nn.ReLU()\n",
    "        self.maxpool = nn.MaxPool2d(kernel_size=3, stride=2, padding=1)\n",
    "        \n",
    "        #resnet layers\n",
    "        self.layer1 = self.__make_layer(64, 64, stride=1)\n",
    "        self.layer2 = self.__make_layer(64, 128, stride=2)\n",
    "        self.layer3 = self.__make_layer(128, 256, stride=2)\n",
    "        self.layer4 = self.__make_layer(256, 512, stride=2)\n",
    "        \n",
    "        self.avgpool = nn.AdaptiveAvgPool2d((1, 1))\n",
    "        self.fc = nn.Linear(512, num_classes)\n",
    "        \n",
    "    def __make_layer(self, in_channels, out_channels, stride):\n",
    "        \n",
    "        identity_downsample = None\n",
    "        if stride != 1:\n",
    "            identity_downsample = self.identity_downsample(in_channels, out_channels)\n",
    "            \n",
    "        return nn.Sequential(\n",
    "            Block(in_channels, out_channels, identity_downsample=identity_downsample, stride=stride), \n",
    "            Block(out_channels, out_channels)\n",
    "        )\n",
    "        \n",
    "    def forward(self, x):\n",
    "        \n",
    "        x = self.conv1(x)\n",
    "        x = self.bn1(x)\n",
    "        x = self.relu(x)\n",
    "        x = self.maxpool(x)\n",
    "        \n",
    "        x = self.layer1(x)\n",
    "        x = self.layer2(x)\n",
    "        x = self.layer3(x)\n",
    "        x = self.layer4(x)\n",
    "        \n",
    "        x = self.avgpool(x)\n",
    "        x = x.view(x.shape[0], -1)\n",
    "        x = self.fc(x)\n",
    "        return x \n",
    "    \n",
    "    def identity_downsample(self, in_channels, out_channels):\n",
    "        \n",
    "        return nn.Sequential(\n",
    "            nn.Conv2d(in_channels, out_channels, kernel_size=3, stride=2, padding=1), \n",
    "            nn.BatchNorm2d(out_channels)\n",
    "        )"
   ]
  },
  {
   "cell_type": "code",
   "execution_count": 17,
   "id": "5ce28250",
   "metadata": {
    "scrolled": true
   },
   "outputs": [
    {
     "name": "stdout",
     "output_type": "stream",
     "text": [
      "The model will be running on cuda:0 device\n"
     ]
    },
    {
     "data": {
      "text/plain": [
       "ResNet_18(\n",
       "  (conv1): Conv2d(3, 64, kernel_size=(7, 7), stride=(2, 2), padding=(3, 3))\n",
       "  (bn1): BatchNorm2d(64, eps=1e-05, momentum=0.1, affine=True, track_running_stats=True)\n",
       "  (relu): ReLU()\n",
       "  (maxpool): MaxPool2d(kernel_size=3, stride=2, padding=1, dilation=1, ceil_mode=False)\n",
       "  (layer1): Sequential(\n",
       "    (0): Block(\n",
       "      (conv1): Conv2d(64, 64, kernel_size=(3, 3), stride=(1, 1), padding=(1, 1))\n",
       "      (bn1): BatchNorm2d(64, eps=1e-05, momentum=0.1, affine=True, track_running_stats=True)\n",
       "      (conv2): Conv2d(64, 64, kernel_size=(3, 3), stride=(1, 1), padding=(1, 1))\n",
       "      (bn2): BatchNorm2d(64, eps=1e-05, momentum=0.1, affine=True, track_running_stats=True)\n",
       "      (relu): ReLU()\n",
       "    )\n",
       "    (1): Block(\n",
       "      (conv1): Conv2d(64, 64, kernel_size=(3, 3), stride=(1, 1), padding=(1, 1))\n",
       "      (bn1): BatchNorm2d(64, eps=1e-05, momentum=0.1, affine=True, track_running_stats=True)\n",
       "      (conv2): Conv2d(64, 64, kernel_size=(3, 3), stride=(1, 1), padding=(1, 1))\n",
       "      (bn2): BatchNorm2d(64, eps=1e-05, momentum=0.1, affine=True, track_running_stats=True)\n",
       "      (relu): ReLU()\n",
       "    )\n",
       "  )\n",
       "  (layer2): Sequential(\n",
       "    (0): Block(\n",
       "      (conv1): Conv2d(64, 128, kernel_size=(3, 3), stride=(2, 2), padding=(1, 1))\n",
       "      (bn1): BatchNorm2d(128, eps=1e-05, momentum=0.1, affine=True, track_running_stats=True)\n",
       "      (conv2): Conv2d(128, 128, kernel_size=(3, 3), stride=(1, 1), padding=(1, 1))\n",
       "      (bn2): BatchNorm2d(128, eps=1e-05, momentum=0.1, affine=True, track_running_stats=True)\n",
       "      (relu): ReLU()\n",
       "      (identity_downsample): Sequential(\n",
       "        (0): Conv2d(64, 128, kernel_size=(3, 3), stride=(2, 2), padding=(1, 1))\n",
       "        (1): BatchNorm2d(128, eps=1e-05, momentum=0.1, affine=True, track_running_stats=True)\n",
       "      )\n",
       "    )\n",
       "    (1): Block(\n",
       "      (conv1): Conv2d(128, 128, kernel_size=(3, 3), stride=(1, 1), padding=(1, 1))\n",
       "      (bn1): BatchNorm2d(128, eps=1e-05, momentum=0.1, affine=True, track_running_stats=True)\n",
       "      (conv2): Conv2d(128, 128, kernel_size=(3, 3), stride=(1, 1), padding=(1, 1))\n",
       "      (bn2): BatchNorm2d(128, eps=1e-05, momentum=0.1, affine=True, track_running_stats=True)\n",
       "      (relu): ReLU()\n",
       "    )\n",
       "  )\n",
       "  (layer3): Sequential(\n",
       "    (0): Block(\n",
       "      (conv1): Conv2d(128, 256, kernel_size=(3, 3), stride=(2, 2), padding=(1, 1))\n",
       "      (bn1): BatchNorm2d(256, eps=1e-05, momentum=0.1, affine=True, track_running_stats=True)\n",
       "      (conv2): Conv2d(256, 256, kernel_size=(3, 3), stride=(1, 1), padding=(1, 1))\n",
       "      (bn2): BatchNorm2d(256, eps=1e-05, momentum=0.1, affine=True, track_running_stats=True)\n",
       "      (relu): ReLU()\n",
       "      (identity_downsample): Sequential(\n",
       "        (0): Conv2d(128, 256, kernel_size=(3, 3), stride=(2, 2), padding=(1, 1))\n",
       "        (1): BatchNorm2d(256, eps=1e-05, momentum=0.1, affine=True, track_running_stats=True)\n",
       "      )\n",
       "    )\n",
       "    (1): Block(\n",
       "      (conv1): Conv2d(256, 256, kernel_size=(3, 3), stride=(1, 1), padding=(1, 1))\n",
       "      (bn1): BatchNorm2d(256, eps=1e-05, momentum=0.1, affine=True, track_running_stats=True)\n",
       "      (conv2): Conv2d(256, 256, kernel_size=(3, 3), stride=(1, 1), padding=(1, 1))\n",
       "      (bn2): BatchNorm2d(256, eps=1e-05, momentum=0.1, affine=True, track_running_stats=True)\n",
       "      (relu): ReLU()\n",
       "    )\n",
       "  )\n",
       "  (layer4): Sequential(\n",
       "    (0): Block(\n",
       "      (conv1): Conv2d(256, 512, kernel_size=(3, 3), stride=(2, 2), padding=(1, 1))\n",
       "      (bn1): BatchNorm2d(512, eps=1e-05, momentum=0.1, affine=True, track_running_stats=True)\n",
       "      (conv2): Conv2d(512, 512, kernel_size=(3, 3), stride=(1, 1), padding=(1, 1))\n",
       "      (bn2): BatchNorm2d(512, eps=1e-05, momentum=0.1, affine=True, track_running_stats=True)\n",
       "      (relu): ReLU()\n",
       "      (identity_downsample): Sequential(\n",
       "        (0): Conv2d(256, 512, kernel_size=(3, 3), stride=(2, 2), padding=(1, 1))\n",
       "        (1): BatchNorm2d(512, eps=1e-05, momentum=0.1, affine=True, track_running_stats=True)\n",
       "      )\n",
       "    )\n",
       "    (1): Block(\n",
       "      (conv1): Conv2d(512, 512, kernel_size=(3, 3), stride=(1, 1), padding=(1, 1))\n",
       "      (bn1): BatchNorm2d(512, eps=1e-05, momentum=0.1, affine=True, track_running_stats=True)\n",
       "      (conv2): Conv2d(512, 512, kernel_size=(3, 3), stride=(1, 1), padding=(1, 1))\n",
       "      (bn2): BatchNorm2d(512, eps=1e-05, momentum=0.1, affine=True, track_running_stats=True)\n",
       "      (relu): ReLU()\n",
       "    )\n",
       "  )\n",
       "  (avgpool): AdaptiveAvgPool2d(output_size=(1, 1))\n",
       "  (fc): Linear(in_features=512, out_features=6, bias=True)\n",
       ")"
      ]
     },
     "execution_count": 17,
     "metadata": {},
     "output_type": "execute_result"
    }
   ],
   "source": [
    "model = ResNet_18(3, 6)\n",
    "device = torch.device(\"cuda:0\" if torch.cuda.is_available() else \"cpu\")\n",
    "print(\"The model will be running on\", device, \"device\")\n",
    "# Convert model parameters and buffers to CPU or Cuda\n",
    "model.to(device)"
   ]
  },
  {
   "cell_type": "code",
   "execution_count": 18,
   "id": "f6ead14e",
   "metadata": {},
   "outputs": [],
   "source": [
    "def inference_test():\n",
    "    model.eval()\n",
    "    accuracy = 0.0\n",
    "    total = 0.0\n",
    "    \n",
    "    with torch.no_grad():\n",
    "        for data in test_loader:\n",
    "            images, labels = data\n",
    "            images = Variable(images.to(device))\n",
    "            labels = Variable(labels.to(device))\n",
    "            # run the model on the test set to predict labels\n",
    "            outputs = model(images)\n",
    "            # the label with the highest energy will be our prediction\n",
    "            _, predicted = torch.max(outputs.data, 1)\n",
    "            total += labels.size(0)\n",
    "            accuracy += (predicted == labels).sum().item()\n",
    "    \n",
    "    # compute the accuracy over all test images\n",
    "    accuracy = (100 * accuracy / total)\n",
    "    print(f\"testing accuracy : {accuracy}%\")\n"
   ]
  },
  {
   "cell_type": "code",
   "execution_count": 19,
   "id": "1ff33b3a",
   "metadata": {
    "scrolled": true
   },
   "outputs": [
    {
     "name": "stdout",
     "output_type": "stream",
     "text": [
      "For epoch', epoch+1,'the test accuracy  is 35% and loss is 2.15848610996959\n",
      "time : 4.193403482437134\n",
      "For epoch', epoch+1,'the test accuracy  is 26% and loss is 1.6436853051185607\n",
      "time : 7.706519603729248\n",
      "For epoch', epoch+1,'the test accuracy  is 33% and loss is 1.566373199224472\n",
      "time : 11.230193853378296\n",
      "For epoch', epoch+1,'the test accuracy  is 35% and loss is 1.4270643174648285\n",
      "time : 14.785640239715576\n",
      "For epoch', epoch+1,'the test accuracy  is 33% and loss is 1.4013065367937088\n",
      "time : 18.314592599868774\n",
      "For epoch', epoch+1,'the test accuracy  is 38% and loss is 1.368518328666687\n",
      "time : 22.055001735687256\n",
      "For epoch', epoch+1,'the test accuracy  is 39% and loss is 1.2728333711624145\n",
      "time : 25.632452964782715\n",
      "For epoch', epoch+1,'the test accuracy  is 40% and loss is 1.3991253137588502\n",
      "time : 29.19782519340515\n",
      "For epoch', epoch+1,'the test accuracy  is 47% and loss is 1.288461023569107\n",
      "time : 32.76025342941284\n",
      "For epoch', epoch+1,'the test accuracy  is 41% and loss is 1.2821900874376297\n",
      "time : 36.25189018249512\n",
      "For epoch', epoch+1,'the test accuracy  is 50% and loss is 1.214094614982605\n",
      "time : 39.8260064125061\n",
      "For epoch', epoch+1,'the test accuracy  is 45% and loss is 1.1845979318022728\n",
      "time : 43.364235162734985\n",
      "For epoch', epoch+1,'the test accuracy  is 41% and loss is 1.2212390899658203\n",
      "time : 46.98720622062683\n",
      "For epoch', epoch+1,'the test accuracy  is 49% and loss is 1.1734341382980347\n",
      "time : 50.562589168548584\n",
      "For epoch', epoch+1,'the test accuracy  is 52% and loss is 1.1667270489037036\n",
      "time : 54.235947370529175\n",
      "For epoch', epoch+1,'the test accuracy  is 51% and loss is 1.202740329504013\n",
      "time : 57.80715537071228\n",
      "For epoch', epoch+1,'the test accuracy  is 49% and loss is 1.1777536392211914\n",
      "time : 61.3829402923584\n",
      "For epoch', epoch+1,'the test accuracy  is 50% and loss is 1.2927602410316468\n",
      "time : 64.9590756893158\n",
      "For epoch', epoch+1,'the test accuracy  is 38% and loss is 1.3795522928237915\n",
      "time : 68.7334988117218\n",
      "For epoch', epoch+1,'the test accuracy  is 52% and loss is 1.1625959396362304\n",
      "time : 72.30794477462769\n",
      "For epoch', epoch+1,'the test accuracy  is 49% and loss is 1.1477193534374237\n",
      "time : 75.8633325099945\n",
      "For epoch', epoch+1,'the test accuracy  is 56% and loss is 1.069510641694069\n",
      "time : 79.52706694602966\n",
      "For epoch', epoch+1,'the test accuracy  is 49% and loss is 1.1643710911273957\n",
      "time : 83.26236367225647\n",
      "For epoch', epoch+1,'the test accuracy  is 52% and loss is 1.0858931750059129\n",
      "time : 86.88944673538208\n",
      "For epoch', epoch+1,'the test accuracy  is 58% and loss is 1.0803186386823653\n",
      "time : 90.53660202026367\n",
      "For epoch', epoch+1,'the test accuracy  is 51% and loss is 1.2804329305887223\n",
      "time : 94.10689306259155\n",
      "For epoch', epoch+1,'the test accuracy  is 53% and loss is 1.0334166835993528\n",
      "time : 97.66867017745972\n",
      "For epoch', epoch+1,'the test accuracy  is 53% and loss is 1.0849647492170333\n",
      "time : 101.23031902313232\n",
      "For epoch', epoch+1,'the test accuracy  is 47% and loss is 1.2574745893478394\n",
      "time : 104.82268118858337\n",
      "For epoch', epoch+1,'the test accuracy  is 49% and loss is 1.142956167459488\n",
      "time : 108.37370443344116\n",
      "For epoch', epoch+1,'the test accuracy  is 48% and loss is 1.1289865210652352\n",
      "time : 111.92079949378967\n",
      "For epoch', epoch+1,'the test accuracy  is 57% and loss is 1.0460903972387314\n",
      "time : 115.49598360061646\n",
      "For epoch', epoch+1,'the test accuracy  is 52% and loss is 1.0839716732501983\n",
      "time : 119.02401089668274\n",
      "For epoch', epoch+1,'the test accuracy  is 59% and loss is 1.1058888494968415\n",
      "time : 122.63482522964478\n",
      "For epoch', epoch+1,'the test accuracy  is 58% and loss is 1.042596709728241\n",
      "time : 126.1794445514679\n",
      "For epoch', epoch+1,'the test accuracy  is 57% and loss is 1.002156708203256\n",
      "time : 129.82656955718994\n",
      "For epoch', epoch+1,'the test accuracy  is 60% and loss is 1.010739442706108\n",
      "time : 133.4789261817932\n",
      "For epoch', epoch+1,'the test accuracy  is 55% and loss is 1.0682016640901566\n",
      "time : 137.09583950042725\n",
      "For epoch', epoch+1,'the test accuracy  is 60% and loss is 1.0857465147972107\n",
      "time : 140.67942929267883\n",
      "For epoch', epoch+1,'the test accuracy  is 64% and loss is 0.9073830276727677\n",
      "time : 144.36117362976074\n",
      "For epoch', epoch+1,'the test accuracy  is 64% and loss is 0.9653451263904571\n",
      "time : 147.94877791404724\n",
      "For epoch', epoch+1,'the test accuracy  is 66% and loss is 0.9443556189537048\n",
      "time : 151.63947892189026\n",
      "For epoch', epoch+1,'the test accuracy  is 62% and loss is 0.9429204519838095\n",
      "time : 155.22863292694092\n",
      "For epoch', epoch+1,'the test accuracy  is 66% and loss is 0.9560290545225143\n",
      "time : 158.82046008110046\n",
      "For epoch', epoch+1,'the test accuracy  is 66% and loss is 0.9498060792684555\n",
      "time : 162.40691685676575\n",
      "For epoch', epoch+1,'the test accuracy  is 62% and loss is 0.9196612656116485\n",
      "time : 166.0401270389557\n",
      "For epoch', epoch+1,'the test accuracy  is 56% and loss is 1.0450619339942933\n",
      "time : 169.63117504119873\n",
      "For epoch', epoch+1,'the test accuracy  is 67% and loss is 0.8713324770331383\n",
      "time : 173.32608342170715\n",
      "For epoch', epoch+1,'the test accuracy  is 60% and loss is 0.9351798713207244\n",
      "time : 176.90308737754822\n",
      "For epoch', epoch+1,'the test accuracy  is 67% and loss is 0.8833802849054336\n",
      "time : 180.5207643508911\n",
      "testing accuracy : 70.19607843137256%\n"
     ]
    }
   ],
   "source": [
    "if __name__ == \"__main__\":\n",
    "    start = time.time()\n",
    "    num_epochs = 50\n",
    "    best_accuracy = 0.0\n",
    "    accuracy_history = []\n",
    "    loss_history = []\n",
    "    valid_history = []\n",
    "    loss_fn = nn.CrossEntropyLoss()\n",
    "    optimizer = Adam(model.parameters(), lr=0.001, weight_decay=0.0001)\n",
    "    for epoch in range(num_epochs):  # loop over the dataset multiple times\n",
    "        running_loss = 0.0\n",
    "        running_acc = 0.0\n",
    "\n",
    "        for i, (images, labels) in enumerate(train_loader, 0):\n",
    "            \n",
    "            images = Variable(images.to(device))\n",
    "            labels = Variable(labels.to(device))\n",
    "            #將梯度初始化为零\n",
    "            optimizer.zero_grad()\n",
    "            # 向前傳播求出預測的值\n",
    "            outputs = model(images)\n",
    "            # 用output和label計算loss\n",
    "            loss = loss_fn(outputs, labels)\n",
    "            # 反向傳播\n",
    "            loss.backward()\n",
    "            # 更新參數\n",
    "            optimizer.step()\n",
    "\n",
    "            # Let's print statistics for every 1,000 images\n",
    "            running_loss += loss.item()     # extract the loss value\n",
    "            if i % 100 == 99:    \n",
    "                print('[%d, %5d] loss: %.3f' %\n",
    "                      (epoch + 1, i + 1, running_loss / 100))\n",
    "                # zero the loss\n",
    "                running_loss = 0.0\n",
    "\n",
    "        # Compute and print the average accuracy fo this epoch when tested over all 10000 test images\n",
    "        accuracy, valid_loss = testAccuracy()\n",
    "        valid_history.append(accuracy)\n",
    "        loss_history.append(valid_loss)\n",
    "        print(f\"For epoch', epoch+1,'the test accuracy  is {int(accuracy)}% and loss is {valid_loss}\")\n",
    "        \n",
    "        # we want to save the model if the accuracy is the best\n",
    "        if accuracy > best_accuracy:\n",
    "            path = \"./ResNet18+intel1.pth\"\n",
    "            torch.save(model.state_dict(), path)\n",
    "            best_accuracy = accuracy\n",
    "        end = time.time()\n",
    "        print(f\"time : {end-start}\")\n",
    "        \n",
    "    inference_test()"
   ]
  },
  {
   "cell_type": "code",
   "execution_count": 20,
   "id": "a9dbd0da",
   "metadata": {},
   "outputs": [
    {
     "data": {
      "text/plain": [
       "<matplotlib.legend.Legend at 0x7f7e3c07fb20>"
      ]
     },
     "execution_count": 20,
     "metadata": {},
     "output_type": "execute_result"
    },
    {
     "data": {
      "image/png": "[encoded data removed]",
      "text/plain": [
       "<Figure size 720x360 with 1 Axes>"
      ]
     },
     "metadata": {
      "needs_background": "light"
     },
     "output_type": "display_data"
    }
   ],
   "source": [
    "plt.figure(figsize=(10,5))\n",
    "plt.title(\"Training Loss\")\n",
    "plt.plot(loss_history,label=\"train\")\n",
    "plt.xlabel(\"iterations\")\n",
    "plt.ylabel(\"Loss\")\n",
    "plt.legend()"
   ]
  },
  {
   "cell_type": "code",
   "execution_count": 21,
   "id": "b8075af4",
   "metadata": {},
   "outputs": [
    {
     "data": {
      "text/plain": [
       "<matplotlib.legend.Legend at 0x7f7e2e7abe20>"
      ]
     },
     "execution_count": 21,
     "metadata": {},
     "output_type": "execute_result"
    },
    {
     "data": {
      "image/png": "[encoded data removed]",
      "text/plain": [
       "<Figure size 720x360 with 1 Axes>"
      ]
     },
     "metadata": {
      "needs_background": "light"
     },
     "output_type": "display_data"
    }
   ],
   "source": [
    "plt.figure(figsize=(10,5))\n",
    "plt.title(\"Validation accuracy\")\n",
    "plt.plot(valid_history,label=\"validation\")\n",
    "plt.xlabel(\"iterations\")\n",
    "plt.ylabel(\"Acc\")\n",
    "plt.legend()"
   ]
  },
  {
   "cell_type": "code",
   "execution_count": 22,
   "id": "611c16f4",
   "metadata": {},
   "outputs": [
    {
     "name": "stdout",
     "output_type": "stream",
     "text": [
      "f1 score is 0.6963038322180842\n"
     ]
    },
    {
     "data": {
      "image/png": "[encoded data removed]",
      "text/plain": [
       "<Figure size 864x504 with 2 Axes>"
      ]
     },
     "metadata": {
      "needs_background": "light"
     },
     "output_type": "display_data"
    }
   ],
   "source": [
    "def draw_confusion_matrix():\n",
    "\n",
    "    y_pred = []\n",
    "    y_true = []\n",
    "\n",
    "    # iterate over test data\n",
    "    for data in test_loader:\n",
    "        images, labels = data\n",
    "        images = Variable(images.to(device))\n",
    "\n",
    "        output = model(images) # Feed Network\n",
    "        _, predicted = torch.max(output.data, 1)\n",
    "        predicted = predicted.data.cpu().numpy()\n",
    "        y_pred.extend(predicted) # Save Prediction\n",
    "\n",
    "        y_true.extend(labels) # Save Truth\n",
    "\n",
    "    # Build confusion matrix\n",
    "    cf_matrix = confusion_matrix(y_true, y_pred)\n",
    "    df_cm = pd.DataFrame(cf_matrix / np.sum(cf_matrix, axis=1)[:, None], index = [i for i in class_list],\n",
    "                         columns = [i for i in class_list])\n",
    "    plt.figure(figsize = (12,7))\n",
    "    sb.heatmap(df_cm, annot=True)\n",
    "    score = f1_score(y_true,y_pred,average='macro')\n",
    "    print(f\"f1 score is {score}\")\n",
    "    #plt.savefig('output.png')\n",
    "\n",
    "draw_confusion_matrix()"
   ]
  },
  {
   "cell_type": "code",
   "execution_count": null,
   "id": "6b139405",
   "metadata": {},
   "outputs": [],
   "source": []
  }
 ],
 "metadata": {
  "kernelspec": {
   "display_name": "Python 3 (ipykernel)",
   "language": "python",
   "name": "python3"
  },
  "language_info": {
   "codemirror_mode": {
    "name": "ipython",
    "version": 3
   },
   "file_extension": ".py",
   "mimetype": "text/x-python",
   "name": "python",
   "nbconvert_exporter": "python",
   "pygments_lexer": "ipython3",
   "version": "3.8.12"
  }
 },
 "nbformat": 4,
 "nbformat_minor": 5
}
